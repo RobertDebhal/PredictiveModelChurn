{
 "cells": [
  {
   "cell_type": "code",
   "execution_count": 1,
   "metadata": {
    "collapsed": true
   },
   "outputs": [],
   "source": [
    "import pandas as pd\n",
    "import matplotlib.pyplot as plt\n",
    "import matplotlib.patches as mpatches\n",
    "%matplotlib inline\n",
    "#below to allow for all columns in csv to display\n",
    "pd.set_option('display.expand_frame_repr', False)\n",
    "pd.set_option('display.max_columns', 500)\n",
    "pd.set_option('display.width', 1000)"
   ]
  },
  {
   "cell_type": "markdown",
   "metadata": {},
   "source": [
    "# 1. Data Undestanding"
   ]
  },
  {
   "cell_type": "markdown",
   "metadata": {},
   "source": [
    "## Importing Cleaned Data"
   ]
  },
  {
   "cell_type": "code",
   "execution_count": 2,
   "metadata": {
    "collapsed": true
   },
   "outputs": [],
   "source": [
    "df = pd.read_csv('CustomerChurnDataQualitySolutionsImplemented12751005.csv')"
   ]
  },
  {
   "cell_type": "markdown",
   "metadata": {},
   "source": [
    "## 1.1 Randomly shuffle the rows of your dataset and split the dataset into two datasets: 70% training and 30% test. Keep the test set aside."
   ]
  },
  {
   "cell_type": "code",
   "execution_count": 3,
   "metadata": {
    "collapsed": true
   },
   "outputs": [],
   "source": [
    "df_training=df.sample(frac=.7)"
   ]
  },
  {
   "cell_type": "code",
   "execution_count": 4,
   "metadata": {
    "collapsed": true
   },
   "outputs": [],
   "source": [
    "df_test=df.sample(frac=.3)"
   ]
  },
  {
   "cell_type": "markdown",
   "metadata": {},
   "source": [
    "## Check partitions are correct"
   ]
  },
  {
   "cell_type": "code",
   "execution_count": 5,
   "metadata": {},
   "outputs": [
    {
     "data": {
      "text/plain": [
       "(700, 28)"
      ]
     },
     "execution_count": 5,
     "metadata": {},
     "output_type": "execute_result"
    }
   ],
   "source": [
    "df_training.shape"
   ]
  },
  {
   "cell_type": "code",
   "execution_count": 6,
   "metadata": {},
   "outputs": [
    {
     "data": {
      "text/plain": [
       "(300, 28)"
      ]
     },
     "execution_count": 6,
     "metadata": {},
     "output_type": "execute_result"
    }
   ],
   "source": [
    "df_test.shape"
   ]
  },
  {
   "cell_type": "markdown",
   "metadata": {},
   "source": [
    "# 1.2 Correlations"
   ]
  },
  {
   "cell_type": "markdown",
   "metadata": {},
   "source": [
    "## Separating continuous and categorical columns"
   ]
  },
  {
   "cell_type": "code",
   "execution_count": 7,
   "metadata": {
    "collapsed": true
   },
   "outputs": [],
   "source": [
    "#df_training.dtypes"
   ]
  },
  {
   "cell_type": "code",
   "execution_count": 8,
   "metadata": {
    "collapsed": true
   },
   "outputs": [],
   "source": [
    "#Select continuous and categorical features\n",
    "df_training['income'] = df_training['income'].astype('object')\n",
    "continuous_columns = df_training.select_dtypes(include=['int64','float64']).columns\n",
    "categorical_columns = df_training.select_dtypes(include=['bool','object']).columns\n",
    "for column in categorical_columns:\n",
    "    df_training[column] = df_training[column].astype('category')"
   ]
  },
  {
   "cell_type": "markdown",
   "metadata": {},
   "source": [
    "Plotting correlations between continuous features"
   ]
  },
  {
   "cell_type": "code",
   "execution_count": 9,
   "metadata": {
    "collapsed": true
   },
   "outputs": [],
   "source": [
    "#df[continuous_columns].corr()"
   ]
  },
  {
   "cell_type": "markdown",
   "metadata": {},
   "source": [
    "It is clear that some features are correlated with one another. As such it may be a good idea to avoid including correlated features in the model since linear models rely on the assumption that features are independent[1]"
   ]
  },
  {
   "cell_type": "code",
   "execution_count": 10,
   "metadata": {
    "collapsed": true
   },
   "outputs": [],
   "source": [
    "df_training['churn_float']=df_training['churn'].astype('float64')"
   ]
  },
  {
   "cell_type": "code",
   "execution_count": 11,
   "metadata": {
    "collapsed": true
   },
   "outputs": [],
   "source": [
    "df['churn_float']=df['churn'].astype('float64')"
   ]
  },
  {
   "cell_type": "code",
   "execution_count": 12,
   "metadata": {
    "collapsed": true
   },
   "outputs": [],
   "source": [
    "corrs_with_churn={}\n",
    "for i in continuous_columns:\n",
    "    corrs_with_churn[i]=df_training[[i,'churn_float']].corr().as_matrix()[0,1]"
   ]
  },
  {
   "cell_type": "code",
   "execution_count": 13,
   "metadata": {
    "collapsed": true
   },
   "outputs": [],
   "source": [
    "#https://stackoverflow.com/questions/268272/getting-key-with-maximum-value-in-dictionary\n",
    "import operator\n",
    "#retrieving 6 largest correlations\n",
    "largest_positive_correlations={}\n",
    "largest_negative_correlations={}\n",
    "for i in range(6):\n",
    "    #retrieve 3 largest positive correlation\n",
    "    largest_positive_correlations[max(corrs_with_churn.items(),key=operator.itemgetter(1))[0]]=max(corrs_with_churn.items(),key=operator.itemgetter(1))[1]\n",
    "    del corrs_with_churn[max(corrs_with_churn.items(),key=operator.itemgetter(1))[0]]\n",
    "    #retrieve 3 largest negative correlations\n",
    "    largest_negative_correlations[min(corrs_with_churn.items(),key=operator.itemgetter(1))[0]]=min(corrs_with_churn.items(),key=operator.itemgetter(1))[1]\n",
    "    del corrs_with_churn[min(corrs_with_churn.items(),key=operator.itemgetter(1))[0]]"
   ]
  },
  {
   "cell_type": "code",
   "execution_count": 14,
   "metadata": {
    "collapsed": true
   },
   "outputs": [],
   "source": [
    "#corrs_with_churn"
   ]
  },
  {
   "cell_type": "code",
   "execution_count": 132,
   "metadata": {},
   "outputs": [
    {
     "name": "stderr",
     "output_type": "stream",
     "text": [
      "/home/robbie/anaconda3/lib/python3.6/site-packages/matplotlib/pyplot.py:528: RuntimeWarning: More than 20 figures have been opened. Figures created through the pyplot interface (`matplotlib.pyplot.figure`) are retained until explicitly closed and may consume too much memory. (To control this warning, see the rcParam `figure.max_open_warning`).\n",
      "  max_open_warning, RuntimeWarning)\n"
     ]
    },
    {
     "data": {
      "image/png": "[encoded data removed]",
      "text/plain": [
       "<matplotlib.figure.Figure at 0x7fb16497a828>"
      ]
     },
     "metadata": {},
     "output_type": "display_data"
    },
    {
     "data": {
      "image/png": "[encoded data removed]",
      "text/plain": [
       "<matplotlib.figure.Figure at 0x7fb1648aa5f8>"
      ]
     },
     "metadata": {},
     "output_type": "display_data"
    },
    {
     "data": {
      "image/png": "[encoded data removed]",
      "text/plain": [
       "<matplotlib.figure.Figure at 0x7fb16839bac8>"
      ]
     },
     "metadata": {},
     "output_type": "display_data"
    },
    {
     "data": {
      "image/png": "[encoded data removed]",
      "text/plain": [
       "<matplotlib.figure.Figure at 0x7fb164ed9748>"
      ]
     },
     "metadata": {},
     "output_type": "display_data"
    },
    {
     "data": {
      "image/png": "[encoded data removed]",
      "text/plain": [
       "<matplotlib.figure.Figure at 0x7fb16465df60>"
      ]
     },
     "metadata": {},
     "output_type": "display_data"
    },
    {
     "data": {
      "image/png": "[encoded data removed]",
      "text/plain": [
       "<matplotlib.figure.Figure at 0x7fb16451c2e8>"
      ]
     },
     "metadata": {},
     "output_type": "display_data"
    },
    {
     "data": {
      "image/png": "[encoded data removed]",
      "text/plain": [
       "<matplotlib.figure.Figure at 0x7fb164511748>"
      ]
     },
     "metadata": {},
     "output_type": "display_data"
    },
    {
     "data": {
      "image/png": "[encoded data removed]",
      "text/plain": [
       "<matplotlib.figure.Figure at 0x7fb164690518>"
      ]
     },
     "metadata": {},
     "output_type": "display_data"
    },
    {
     "data": {
      "image/png": "[encoded data removed]",
      "text/plain": [
       "<matplotlib.figure.Figure at 0x7fb1645ede10>"
      ]
     },
     "metadata": {},
     "output_type": "display_data"
    },
    {
     "data": {
      "image/png": "[encoded data removed]",
      "text/plain": [
       "<matplotlib.figure.Figure at 0x7fb16447b630>"
      ]
     },
     "metadata": {},
     "output_type": "display_data"
    },
    {
     "data": {
      "image/png": "[encoded data removed]",
      "text/plain": [
       "<matplotlib.figure.Figure at 0x7fb164478c18>"
      ]
     },
     "metadata": {},
     "output_type": "display_data"
    },
    {
     "data": {
      "image/png": "[encoded data removed]",
      "text/plain": [
       "<matplotlib.figure.Figure at 0x7fb16447b278>"
      ]
     },
     "metadata": {},
     "output_type": "display_data"
    },
    {
     "data": {
      "image/png": "[encoded data removed]",
      "text/plain": [
       "<matplotlib.figure.Figure at 0x7fb164478f98>"
      ]
     },
     "metadata": {},
     "output_type": "display_data"
    },
    {
     "data": {
      "image/png": "[encoded data removed]",
      "text/plain": [
       "<matplotlib.figure.Figure at 0x7fb164299cf8>"
      ]
     },
     "metadata": {},
     "output_type": "display_data"
    },
    {
     "data": {
      "image/png": "[encoded data removed]",
      "text/plain": [
       "<matplotlib.figure.Figure at 0x7fb16426cf60>"
      ]
     },
     "metadata": {},
     "output_type": "display_data"
    },
    {
     "data": {
      "image/png": "[encoded data removed]",
      "text/plain": [
       "<matplotlib.figure.Figure at 0x7fb16423ac18>"
      ]
     },
     "metadata": {},
     "output_type": "display_data"
    },
    {
     "data": {
      "image/png": "[encoded data removed]",
      "text/plain": [
       "<matplotlib.figure.Figure at 0x7fb16423ae80>"
      ]
     },
     "metadata": {},
     "output_type": "display_data"
    },
    {
     "data": {
      "image/png": "[encoded data removed]",
      "text/plain": [
       "<matplotlib.figure.Figure at 0x7fb164168c18>"
      ]
     },
     "metadata": {},
     "output_type": "display_data"
    },
    {
     "data": {
      "image/png": "[encoded data removed]",
      "text/plain": [
       "<matplotlib.figure.Figure at 0x7fb16413dc18>"
      ]
     },
     "metadata": {},
     "output_type": "display_data"
    },
    {
     "data": {
      "image/png": "[encoded data removed]",
      "text/plain": [
       "<matplotlib.figure.Figure at 0x7fb16413de80>"
      ]
     },
     "metadata": {},
     "output_type": "display_data"
    },
    {
     "data": {
      "image/png": "[encoded data removed]",
      "text/plain": [
       "<matplotlib.figure.Figure at 0x7fb16407b908>"
      ]
     },
     "metadata": {},
     "output_type": "display_data"
    }
   ],
   "source": [
    "flierprops = dict(marker='o', markerfacecolor='green', markersize=6,\n",
    "                  linestyle='none')\n",
    "for k in continuous_columns:\n",
    "    bp = df_training.boxplot(column=[k], by=['churn_float'], flierprops=flierprops, figsize=(10,7))"
   ]
  },
  {
   "cell_type": "code",
   "execution_count": 16,
   "metadata": {
    "collapsed": true
   },
   "outputs": [],
   "source": [
    "# flierprops = dict(marker='o', markerfacecolor='green', markersize=6,\n",
    "#                   linestyle='none')\n",
    "# for k in largest_negative_correlations:\n",
    "#     bp = df_training.boxplot(column=[k], by=['churn_float'], flierprops=flierprops, figsize=(10,7))"
   ]
  },
  {
   "cell_type": "code",
   "execution_count": 17,
   "metadata": {
    "collapsed": true
   },
   "outputs": [],
   "source": [
    "# \"\"\"\n",
    "# Taken from Lab4\n",
    "# \"\"\"\n",
    "\n",
    "# homeOwner = 1 / df_training[df_training.homeOwner == True].count()['homeOwner']\n",
    "# nohomeOwner = 1 / df_training[df_training.homeOwner == False].count()['homeOwner']\n",
    "# df_training['percent'] = homeOwner * 100\n",
    "\n",
    "# index_list = df_training[df_training['homeOwner'] == False].index.tolist()\n",
    "\n",
    "# for i in index_list:\n",
    "#     df_training.loc[i, 'percent'] = nohomeOwner * 100\n",
    "\n",
    "# category_group = df_training[['percent','homeOwner','churn']].groupby(['homeOwner','churn']).sum()\n",
    "\n",
    "# my_plot = category_group.unstack().plot(kind='bar', stacked=True, title=\"Churn by is homeOwner\", figsize=(13,7))\n",
    "\n",
    "# red_patch = mpatches.Patch(color='orange', label='churn')\n",
    "# blue_patch = mpatches.Patch(color='blue', label='no churn')\n",
    "# my_plot.legend(handles=[red_patch, blue_patch], frameon = True)\n",
    "\n",
    "\n",
    "# my_plot.set_xlabel(\"homeOwner\")\n",
    "# my_plot.set_ylabel(\"% churn\")\n",
    "# my_plot.set_ylim([0,100])"
   ]
  },
  {
   "cell_type": "code",
   "execution_count": 18,
   "metadata": {
    "collapsed": true
   },
   "outputs": [],
   "source": [
    "# \"\"\"\n",
    "# Taken from Lab4\n",
    "# \"\"\"\n",
    "# # Count the number of customers with children\n",
    "# children = 1 / df_training[df_training.children == True].count()['children']\n",
    "\n",
    "# noChildren = 1 / df_training[df_training.children == False].count()['children']\n",
    "\n",
    "# # Create a new column in the dataframe called percent and insert children in all cells\n",
    "# df_training['percent'] = children * 100\n",
    "\n",
    "# # Find indexes of all rows containing False for children\n",
    "# index_list = df_training[df_training['children'] == False].index.tolist()\n",
    "\n",
    "# # For each row with a 'female' value, insert female_count in the percent column\n",
    "# for i in index_list:\n",
    "#     df_training.loc[i, 'percent'] = noChildren * 100\n",
    "\n",
    "# # Group dataframe by children and churn and sum precent\n",
    "# category_group = df_training[['percent','children','churn']].groupby(['children','churn']).sum()\n",
    "\n",
    "# # Plot values of category_group in a stacked bar chart\n",
    "# my_plot = category_group.unstack().plot(kind='bar', stacked=True, title=\"Churn by has children\", figsize=(13,7))\n",
    "\n",
    "# # Define legend colours and text and add to the plot\n",
    "# red_patch = mpatches.Patch(color='orange', label='churn')\n",
    "# blue_patch = mpatches.Patch(color='blue', label='no churn')\n",
    "# my_plot.legend(handles=[red_patch, blue_patch], frameon = True)\n",
    "\n",
    "# # Define x and y labels and min and max values for the y axis\n",
    "# my_plot.set_xlabel(\"children\")\n",
    "# my_plot.set_ylabel(\"% churn\")\n",
    "# my_plot.set_ylim([0,100])"
   ]
  },
  {
   "cell_type": "code",
   "execution_count": 98,
   "metadata": {},
   "outputs": [
    {
     "data": {
      "text/plain": [
       "(0, 100)"
      ]
     },
     "execution_count": 98,
     "metadata": {},
     "output_type": "execute_result"
    },
    {
     "data": {
      "image/png": "[encoded data removed]",
      "text/plain": [
       "<matplotlib.figure.Figure at 0x7fb1650040b8>"
      ]
     },
     "metadata": {},
     "output_type": "display_data"
    }
   ],
   "source": [
    "\"\"\"\n",
    "Taken from Lab4\n",
    "\"\"\"\n",
    "# Find unique values in creditRating\n",
    "credit = pd.unique(df_training.creditRating.ravel())\n",
    "\n",
    "# Insert a new column called 'percent' and fill it with 0s\n",
    "df_training['percent'] = 0\n",
    "\n",
    "# Iterate through the unique values in Party and for each value count the amount of elected candidates\n",
    "# Find the indexes of each row with a particular party amd for each of these row insert count * 100 in the percent column\n",
    "for p in credit:\n",
    "    count = 1 / df_training[df_training.creditRating == p].count()['churn']\n",
    "    index_list = df_training[df_training['creditRating'] == p].index.tolist()\n",
    "    for i in index_list:\n",
    "        df_training.loc[i, 'percent'] = count * 100\n",
    "        \n",
    "# Group dataframe by Party and Elected and sum percent\n",
    "group = df_training[['percent','creditRating','churn']].groupby(['creditRating','churn']).sum()\n",
    "\n",
    "# Plot values of group in a stacked bar chart\n",
    "my_plot = group.unstack().plot(kind='bar', stacked=True, title=\"churn by credit rating\", figsize=(15,7))\n",
    "\n",
    "# Define label colours and text and add to the plot\n",
    "red_patch = mpatches.Patch(color='orange', label='churn')\n",
    "blue_patch = mpatches.Patch(color='blue', label='no churn')\n",
    "my_plot.legend(handles=[red_patch, blue_patch], frameon = True)\n",
    "\n",
    "# Define x and y labels and min and max values for the y axis\n",
    "my_plot.set_xlabel(\"credit rating\")\n",
    "my_plot.set_ylabel(\"% churn\")\n",
    "my_plot.set_ylim([0,100])"
   ]
  },
  {
   "cell_type": "code",
   "execution_count": 114,
   "metadata": {},
   "outputs": [
    {
     "data": {
      "text/plain": [
       "(0, 100)"
      ]
     },
     "execution_count": 114,
     "metadata": {},
     "output_type": "execute_result"
    },
    {
     "data": {
      "image/png": "[encoded data removed]",
      "text/plain": [
       "<matplotlib.figure.Figure at 0x7fb164e55dd8>"
      ]
     },
     "metadata": {},
     "output_type": "display_data"
    }
   ],
   "source": [
    "\"\"\"\n",
    "Taken from Lab4\n",
    "\"\"\"\n",
    "smart_phone = 1 / df_training[df_training.smartPhone == True].count()['smartPhone']\n",
    "nosmartPhone = 1 / df_training[df_training.smartPhone == False].count()['smartPhone']\n",
    "df_training['percent'] = smart_phone * 100\n",
    "index_list = df_training[df_training['smartPhone'] == False].index.tolist()\n",
    "for i in index_list:\n",
    "    df_training.loc[i, 'percent'] = nosmartPhone * 100\n",
    "category_group = df_training[['percent','smartPhone','churn']].groupby(['smartPhone','churn']).sum()\n",
    "my_plot = category_group.unstack().plot(kind='bar', stacked=True, title=\"Churn by has smartPhone\", figsize=(13,7))\n",
    "red_patch = mpatches.Patch(color='orange', label='churn')\n",
    "blue_patch = mpatches.Patch(color='blue', label='no churn')\n",
    "my_plot.legend(handles=[red_patch, blue_patch], frameon = True)\n",
    "my_plot.set_xlabel(\"smartPhone\")\n",
    "my_plot.set_ylabel(\"% churn\")\n",
    "my_plot.set_ylim([0,100])"
   ]
  },
  {
   "cell_type": "code",
   "execution_count": 21,
   "metadata": {
    "collapsed": true
   },
   "outputs": [],
   "source": [
    "# \"\"\"\n",
    "# Taken from Lab4\n",
    "# \"\"\"\n",
    "# creditCard = 1 / df_training[df_training.creditCard == True].count()['creditCard']\n",
    "# nocreditCard = 1 / df_training[df_training.creditCard == False].count()['creditCard']\n",
    "\n",
    "# df_training['percent'] = creditCard * 100\n",
    "\n",
    "# index_list = df_training[df_training['creditCard'] == False].index.tolist()\n",
    "\n",
    "# for i in index_list:\n",
    "#     df_training.loc[i, 'percent'] = nocreditCard * 100\n",
    "\n",
    "# category_group = df_training[['percent','creditCard','churn']].groupby(['creditCard','churn']).sum()\n",
    "\n",
    "# my_plot = category_group.unstack().plot(kind='bar', stacked=True, title=\"Churn by has creditCard\", figsize=(13,7))\n",
    "\n",
    "# red_patch = mpatches.Patch(color='orange', label='churn')\n",
    "# blue_patch = mpatches.Patch(color='blue', label='no churn')\n",
    "# my_plot.legend(handles=[red_patch, blue_patch], frameon = True)\n",
    "\n",
    "# my_plot.set_xlabel(\"creditCard\")\n",
    "# my_plot.set_ylabel(\"% churn\")\n",
    "# my_plot.set_ylim([0,100])"
   ]
  },
  {
   "cell_type": "code",
   "execution_count": 94,
   "metadata": {},
   "outputs": [
    {
     "data": {
      "text/plain": [
       "(0, 100)"
      ]
     },
     "execution_count": 94,
     "metadata": {},
     "output_type": "execute_result"
    },
    {
     "data": {
      "image/png": "[encoded data removed]",
      "text/plain": [
       "<matplotlib.figure.Figure at 0x7fb165041f98>"
      ]
     },
     "metadata": {},
     "output_type": "display_data"
    }
   ],
   "source": [
    "\"\"\"\n",
    "Taken from Lab4\n",
    "\"\"\"\n",
    "# Find unique values in creditRating\n",
    "income = pd.unique(df_training.income.ravel())\n",
    "\n",
    "# Insert a new column called 'percent' and fill it with 0s\n",
    "df_training['percent'] = 0\n",
    "\n",
    "# Iterate through the unique values in Party and for each value count the amount of elected candidates\n",
    "# Find the indexes of each row with a particular party amd for each of these row insert count * 100 in the percent column\n",
    "for p in income:\n",
    "    count = 1 / df_training[df_training.income == p].count()['churn']\n",
    "    index_list = df_training[df_training['income'] == p].index.tolist()\n",
    "    for i in index_list:\n",
    "        df_training.loc[i, 'percent'] = count * 100\n",
    "        \n",
    "# Group dataframe by Party and Elected and sum percent\n",
    "group = df_training[['percent','income','churn']].groupby(['income','churn']).sum()\n",
    "\n",
    "# Plot values of group in a stacked bar chart\n",
    "my_plot = group.unstack().plot(kind='bar', stacked=True, title=\"churn by income\", figsize=(15,7))\n",
    "\n",
    "# Define label colours and text and add to the plot\n",
    "red_patch = mpatches.Patch(color='orange', label='churn')\n",
    "blue_patch = mpatches.Patch(color='blue', label='no churn')\n",
    "my_plot.legend(handles=[red_patch, blue_patch], frameon = True)\n",
    "\n",
    "# Define x and y labels and min and max values for the y axis\n",
    "my_plot.set_xlabel(\"income\")\n",
    "my_plot.set_ylabel(\"% churn\")\n",
    "my_plot.set_ylim([0,100])"
   ]
  },
  {
   "cell_type": "code",
   "execution_count": 23,
   "metadata": {
    "collapsed": true
   },
   "outputs": [],
   "source": [
    "# \"\"\"\n",
    "# Taken from Lab4\n",
    "# \"\"\"\n",
    "# creditCard = 1 / df_training[df_training.creditCard == True].count()['creditCard']\n",
    "# nocreditCard = 1 / df_training[df_training.creditCard == False].count()['creditCard']\n",
    "\n",
    "# df_training['percent'] = creditCard * 100\n",
    "\n",
    "# index_list = df_training[df_training['creditCard'] == False].index.tolist()\n",
    "\n",
    "# for i in index_list:\n",
    "#     df_training.loc[i, 'percent'] = nocreditCard * 100\n",
    "\n",
    "# category_group = df_training[['percent','creditCard','homeOwner']].groupby(['creditCard','homeOwner']).sum()\n",
    "\n",
    "# my_plot = category_group.unstack().plot(kind='bar', stacked=True, title=\"homeOwner by has creditCard\", figsize=(13,7))\n",
    "\n",
    "# red_patch = mpatches.Patch(color='orange', label='homeOwner')\n",
    "# blue_patch = mpatches.Patch(color='blue', label='no homeOwner')\n",
    "# my_plot.legend(handles=[red_patch, blue_patch], frameon = True)\n",
    "\n",
    "# my_plot.set_xlabel(\"creditCard\")\n",
    "# my_plot.set_ylabel(\"% homeOwner\")\n",
    "# my_plot.set_ylim([0,100])"
   ]
  },
  {
   "cell_type": "markdown",
   "metadata": {},
   "source": [
    "## Check that categories cover a significant portion of the data"
   ]
  },
  {
   "cell_type": "code",
   "execution_count": 24,
   "metadata": {
    "collapsed": true
   },
   "outputs": [],
   "source": [
    "# df_temp_credit = df_training[df_training['creditCard']==True]\n",
    "# df_temp_credit.shape"
   ]
  },
  {
   "cell_type": "code",
   "execution_count": 25,
   "metadata": {
    "collapsed": true
   },
   "outputs": [],
   "source": [
    "# df_temp_homeOwner = df_training[df_training['homeOwner']==True]\n",
    "# df_temp_homeOwner.shape"
   ]
  },
  {
   "cell_type": "code",
   "execution_count": 26,
   "metadata": {
    "collapsed": true
   },
   "outputs": [],
   "source": [
    "# df_temp_smartPhone = df_training[df_training['smartPhone']==True]\n",
    "# df_temp_smartPhone.shape"
   ]
  },
  {
   "cell_type": "markdown",
   "metadata": {},
   "source": [
    "Promising continuous features:\n",
    "handsetAge, avgrecurringCharge avgReceivedMins - because of all minutes measurements this is the most interesting to me. A customer who is receiving a lot of calls probably does not want to switch network since those calling them may be charged more on the new network or currently have free calls to the customer etc.\n",
    "Promising categorical features:\n",
    "creditCard, smartPhone, homeOwner"
   ]
  },
  {
   "cell_type": "code",
   "execution_count": 27,
   "metadata": {
    "collapsed": true
   },
   "outputs": [],
   "source": [
    "\"\"\"\n",
    "From Lab 6\n",
    "\"\"\"\n",
    "#Import statsmodels package for training a linear regression model.\n",
    "import statsmodels.formula.api as sm\n",
    "#https://github.com/justmarkham/DAT4/blob/master/notebooks/08_linear_regression.ipynb\n",
    "#Handling Categorical Predictors with Two Categories\n",
    "import numpy as np"
   ]
  },
  {
   "cell_type": "code",
   "execution_count": null,
   "metadata": {
    "collapsed": true
   },
   "outputs": [],
   "source": []
  },
  {
   "cell_type": "code",
   "execution_count": 139,
   "metadata": {},
   "outputs": [],
   "source": [
    "lm = sm.ols(formula=\"churn_float ~ C(homeOwner) + avgInCalls \", data=df_training).fit()"
   ]
  },
  {
   "cell_type": "code",
   "execution_count": 140,
   "metadata": {},
   "outputs": [
    {
     "name": "stdout",
     "output_type": "stream",
     "text": [
      "                            OLS Regression Results                            \n",
      "==============================================================================\n",
      "Dep. Variable:            churn_float   R-squared:                       0.016\n",
      "Model:                            OLS   Adj. R-squared:                  0.013\n",
      "Method:                 Least Squares   F-statistic:                     5.660\n",
      "Date:                Sun, 08 Apr 2018   Prob (F-statistic):            0.00365\n",
      "Time:                        17:38:09   Log-Likelihood:                -501.93\n",
      "No. Observations:                 700   AIC:                             1010.\n",
      "Df Residuals:                     697   BIC:                             1024.\n",
      "Df Model:                           2                                         \n",
      "Covariance Type:            nonrobust                                         \n",
      "========================================================================================\n",
      "                           coef    std err          t      P>|t|      [0.025      0.975]\n",
      "----------------------------------------------------------------------------------------\n",
      "Intercept                0.4307      0.025     16.937      0.000       0.381       0.481\n",
      "C(homeOwner)[T.True]     0.1295      0.039      3.356      0.001       0.054       0.205\n",
      "avgInCalls             6.85e-05      0.001      0.066      0.947      -0.002       0.002\n",
      "==============================================================================\n",
      "Omnibus:                        0.657   Durbin-Watson:                   2.098\n",
      "Prob(Omnibus):                  0.720   Jarque-Bera (JB):              109.225\n",
      "Skew:                           0.074   Prob(JB):                     1.91e-24\n",
      "Kurtosis:                       1.071   Cond. No.                         45.5\n",
      "==============================================================================\n",
      "\n",
      "Warnings:\n",
      "[1] Standard Errors assume that the covariance matrix of the errors is correctly specified.\n"
     ]
    }
   ],
   "source": [
    "# Print the weights learned for each feature.\n",
    "print(lm.summary())"
   ]
  },
  {
   "cell_type": "code",
   "execution_count": 30,
   "metadata": {
    "collapsed": true
   },
   "outputs": [],
   "source": [
    "predict_df_train = pd.DataFrame({'ActualChurn': df_training.churn_float, 'PredictedChurn': lm.predict(df_training)})"
   ]
  },
  {
   "cell_type": "code",
   "execution_count": 31,
   "metadata": {
    "collapsed": true
   },
   "outputs": [],
   "source": [
    "df_pred = pd.DataFrame({'ActualChurn': predict_df_train.ActualChurn, 'PredictedChurn': predict_df_train.PredictedChurn,\n",
    "                  'AbsDiff':abs(predict_df_train.ActualChurn-predict_df_train.PredictedChurn)})"
   ]
  },
  {
   "cell_type": "code",
   "execution_count": 32,
   "metadata": {
    "collapsed": true
   },
   "outputs": [],
   "source": [
    "# #Pair the actual and the predicted values\n",
    "# print(\"Actual - Predicted:\\n\", (df_training.churn_float - lm.predict(df_training)))\n",
    "# print(\"\\n(Actual - Predicted) squared:\\n\", (df_training.churn_float - lm.predict(df_training))**2)"
   ]
  },
  {
   "cell_type": "code",
   "execution_count": 33,
   "metadata": {
    "collapsed": true
   },
   "outputs": [],
   "source": [
    "df_test['churn_float']=df_test['churn'].astype('float64')"
   ]
  },
  {
   "cell_type": "code",
   "execution_count": 34,
   "metadata": {
    "collapsed": true
   },
   "outputs": [],
   "source": [
    "predict_df_test = pd.DataFrame({'ActualChurn': df_test.churn_float, 'PredictedChurn': lm.predict(df_test)})"
   ]
  },
  {
   "cell_type": "code",
   "execution_count": 35,
   "metadata": {
    "collapsed": true
   },
   "outputs": [],
   "source": [
    "df_perf_test = pd.DataFrame({'ActualChurn': predict_df_test.ActualChurn, 'PredictedChurn': predict_df_test.PredictedChurn,\n",
    "                  'AbsDiff':abs(predict_df_test.ActualChurn-predict_df_test.PredictedChurn)})"
   ]
  },
  {
   "cell_type": "code",
   "execution_count": 36,
   "metadata": {
    "collapsed": true
   },
   "outputs": [],
   "source": [
    "df_test_performance_test = df_perf_test[df_perf_test['AbsDiff']<0.5]"
   ]
  },
  {
   "cell_type": "markdown",
   "metadata": {},
   "source": [
    "# Note: compare multiple runs of model prediction - minimal feature model vs overloaded model i.e. all promising categorical features and all high correlation continuous features"
   ]
  },
  {
   "cell_type": "code",
   "execution_count": 37,
   "metadata": {
    "collapsed": true
   },
   "outputs": [],
   "source": [
    "# print(lm.summary())"
   ]
  },
  {
   "cell_type": "code",
   "execution_count": 38,
   "metadata": {
    "collapsed": true
   },
   "outputs": [],
   "source": [
    "from sklearn import metrics"
   ]
  },
  {
   "cell_type": "code",
   "execution_count": 39,
   "metadata": {
    "collapsed": true
   },
   "outputs": [],
   "source": [
    "y = df_test.churn_float.as_matrix()"
   ]
  },
  {
   "cell_type": "code",
   "execution_count": 40,
   "metadata": {
    "collapsed": true
   },
   "outputs": [],
   "source": [
    "predictions = lm.predict(df_test).as_matrix()"
   ]
  },
  {
   "cell_type": "markdown",
   "metadata": {},
   "source": [
    "## Thresholding predictions: over 0.5 = 1.0 less than 0.5 = 0.0"
   ]
  },
  {
   "cell_type": "code",
   "execution_count": 41,
   "metadata": {
    "collapsed": true
   },
   "outputs": [],
   "source": [
    "for i in range(len(predictions)):\n",
    "        if predictions[i]>0.5:\n",
    "            predictions[i]=1.0\n",
    "        else:\n",
    "            predictions[i]=0.0"
   ]
  },
  {
   "cell_type": "code",
   "execution_count": 42,
   "metadata": {
    "collapsed": true
   },
   "outputs": [],
   "source": [
    "# print(\"Confusion Matrix: \",metrics.confusion_matrix(y, predictions))\n",
    "\n",
    "# print(\"Accuracy: \", metrics.accuracy_score(y, predictions))\n",
    "\n",
    "# print(\"Classification report:\\n \", metrics.classification_report(y, predictions))"
   ]
  },
  {
   "cell_type": "markdown",
   "metadata": {},
   "source": [
    "## Simple model: i.e. predict majority churn class"
   ]
  },
  {
   "cell_type": "code",
   "execution_count": 43,
   "metadata": {
    "collapsed": true
   },
   "outputs": [],
   "source": [
    "def simple_predict_stats(data_frame,feature='churn_float'):\n",
    "    majority_class=0.0\n",
    "    if data_frame[data_frame[feature]>0.0][feature].count()>data_frame[data_frame[feature]<1.0][feature].count():\n",
    "        majority_class=1.0\n",
    "    if majority_class>0.0:\n",
    "        predictions=np.ones(shape=data_frame.shape[0])\n",
    "    else:\n",
    "        predictions=np.zeros(shape=data_frame.shape[0])\n",
    "    return predictions"
   ]
  },
  {
   "cell_type": "code",
   "execution_count": 44,
   "metadata": {},
   "outputs": [
    {
     "name": "stdout",
     "output_type": "stream",
     "text": [
      "Confusion Matrix:  [[  0 140]\n",
      " [  0 160]]\n",
      "Accuracy:  0.5333333333333333\n",
      "Classification report:\n",
      "               precision    recall  f1-score   support\n",
      "\n",
      "        0.0       0.00      0.00      0.00       140\n",
      "        1.0       0.53      1.00      0.70       160\n",
      "\n",
      "avg / total       0.28      0.53      0.37       300\n",
      "\n"
     ]
    },
    {
     "name": "stderr",
     "output_type": "stream",
     "text": [
      "/home/robbie/anaconda3/lib/python3.6/site-packages/sklearn/metrics/classification.py:1135: UndefinedMetricWarning: Precision and F-score are ill-defined and being set to 0.0 in labels with no predicted samples.\n",
      "  'precision', 'predicted', average, warn_for)\n"
     ]
    }
   ],
   "source": [
    "print(\"Confusion Matrix: \",metrics.confusion_matrix(y, simple_predict_stats(df_test)))\n",
    "print(\"Accuracy: \", metrics.accuracy_score(y, simple_predict_stats(df_test)))\n",
    "print(\"Classification report:\\n \", metrics.classification_report(y, simple_predict_stats(df_test)))"
   ]
  },
  {
   "cell_type": "code",
   "execution_count": 45,
   "metadata": {
    "collapsed": true
   },
   "outputs": [],
   "source": [
    "lm = sm.ols(formula=\"churn_float ~ C(homeOwner) + avgReceivedMins\", data=df_training).fit()"
   ]
  },
  {
   "cell_type": "code",
   "execution_count": 46,
   "metadata": {
    "collapsed": true
   },
   "outputs": [],
   "source": [
    "def change_data_types(continuous,categorical,df):\n",
    "    for column in categorical:\n",
    "        df[column] = df[column].astype('category')\n",
    "    for column in continuous:\n",
    "        df[column] = df[column].astype('float64')"
   ]
  },
  {
   "cell_type": "code",
   "execution_count": 47,
   "metadata": {
    "collapsed": true
   },
   "outputs": [],
   "source": [
    "# from sklearn.model_selection import LeaveOneOut \n",
    "# X = df.as_matrix()\n",
    "# loo = LeaveOneOut()\n",
    "# loo.get_n_splits(X)\n",
    "# i=0\n",
    "# accuracy=0\n",
    "# for train_index, test_index in loo.split(X):\n",
    "#     #print(\"TRAIN:\", train_index, \"TEST:\", test_index)\n",
    "#     X_train, X_test = X[train_index], X[test_index]\n",
    "#     #print(X_train, \"Test\",X_test)\n",
    "#     x_pd_train=pd.DataFrame(data=X_train,columns=df.columns)\n",
    "#     x_pd_test=pd.DataFrame(data=X_test,columns=df.columns)\n",
    "#     change_data_types(continuous_columns,categorical_columns,x_pd_train)\n",
    "#     change_data_types(continuous_columns,categorical_columns,x_pd_test)\n",
    "#     x_pd_train['churn_float'] = x_pd_train['churn_float'].astype('float64')\n",
    "#     lmcv = sm.ols(formula=\"churn_float ~ C(homeOwner)+avgMins+handsetAge\", data=x_pd_train).fit()\n",
    "#     x_pd_test['churn_float']=x_pd_test['churn_float'].astype('float64')\n",
    "#     prediction = lmcv.predict(x_pd_test)\n",
    "#     y = x_pd_test['churn_float']\n",
    "#     #thresholding at 0.5\n",
    "#     if prediction[0]>0.5:\n",
    "#         prediction[0]=1.0\n",
    "#     else:\n",
    "#         prediction[0]=0.0\n",
    "#     accuracy += metrics.accuracy_score(x_pd_test['churn_float'], prediction)\n",
    "#     i+=1\n",
    "\n",
    "# accuracy\n",
    "# avg_accuracy=accuracy/i\n",
    "# print(\"Model accuracy:\",avg_accuracy)"
   ]
  },
  {
   "cell_type": "code",
   "execution_count": 48,
   "metadata": {},
   "outputs": [
    {
     "name": "stdout",
     "output_type": "stream",
     "text": [
      "Simple model accuracy: 0.501\n"
     ]
    }
   ],
   "source": [
    "print(\"Simple model accuracy:\",df[df['churn_float']==df['churn_float'].median()]['churn_float'].count()/df['churn_float'].count())"
   ]
  },
  {
   "cell_type": "markdown",
   "metadata": {
    "collapsed": true
   },
   "source": [
    "## Logistic Regression"
   ]
  },
  {
   "cell_type": "code",
   "execution_count": 49,
   "metadata": {},
   "outputs": [
    {
     "name": "stdout",
     "output_type": "stream",
     "text": [
      "Optimization terminated successfully.\n",
      "         Current function value: 0.680857\n",
      "         Iterations 4\n"
     ]
    }
   ],
   "source": [
    "\"\"\"From lab 7\"\"\"\n",
    "logreg = sm.logit(formula=\"churn_float ~  C(homeOwner)+avgReceivedMins+avgrecurringCharge+numRetentionOffersAccepted\", data=df_training).fit()"
   ]
  },
  {
   "cell_type": "code",
   "execution_count": 50,
   "metadata": {},
   "outputs": [
    {
     "name": "stdout",
     "output_type": "stream",
     "text": [
      "                             Results: Logit\n",
      "=========================================================================\n",
      "Model:                  Logit               No. Iterations:      4.0000  \n",
      "Dependent Variable:     churn_float         Pseudo R-squared:    0.017   \n",
      "Date:                   2018-04-08 17:02    AIC:                 963.2002\n",
      "No. Observations:       700                 BIC:                 985.9556\n",
      "Df Model:               4                   Log-Likelihood:      -476.60 \n",
      "Df Residuals:           695                 LL-Null:             -484.72 \n",
      "Converged:              1.0000              Scale:               1.0000  \n",
      "-------------------------------------------------------------------------\n",
      "                            Coef.  Std.Err.    z    P>|z|   [0.025 0.975]\n",
      "-------------------------------------------------------------------------\n",
      "Intercept                   0.0015   0.1812  0.0081 0.9935 -0.3537 0.3566\n",
      "C(homeOwner)[T.True]        0.5415   0.1579  3.4290 0.0006  0.2320 0.8510\n",
      "avgReceivedMins            -0.0005   0.0005 -0.9346 0.3500 -0.0015 0.0005\n",
      "avgrecurringCharge         -0.0051   0.0037 -1.3987 0.1619 -0.0123 0.0021\n",
      "numRetentionOffersAccepted  0.2825   0.5537  0.5103 0.6099 -0.8026 1.3677\n",
      "=========================================================================\n",
      "\n"
     ]
    }
   ],
   "source": [
    "print(logreg.summary2())"
   ]
  },
  {
   "cell_type": "code",
   "execution_count": 51,
   "metadata": {},
   "outputs": [
    {
     "name": "stdout",
     "output_type": "stream",
     "text": [
      "Intercept                     0.001475\n",
      "C(homeOwner)[T.True]          0.541508\n",
      "avgReceivedMins              -0.000485\n",
      "avgrecurringCharge           -0.005112\n",
      "numRetentionOffersAccepted    0.282530\n",
      "dtype: float64\n"
     ]
    }
   ],
   "source": [
    "print(logreg.params)"
   ]
  },
  {
   "cell_type": "code",
   "execution_count": 52,
   "metadata": {
    "collapsed": true
   },
   "outputs": [],
   "source": [
    "log_predictions = logreg.predict(df_training)\n",
    "#log_predictions"
   ]
  },
  {
   "cell_type": "code",
   "execution_count": 53,
   "metadata": {
    "collapsed": true
   },
   "outputs": [],
   "source": [
    "# X = df.as_matrix()\n",
    "# loo = LeaveOneOut()\n",
    "# loo.get_n_splits(X)\n",
    "# i=0\n",
    "# accuracy=0\n",
    "# for train_index, test_index in loo.split(X):\n",
    "#     X_train, X_test = X[train_index], X[test_index]\n",
    "#     x_pd_train=pd.DataFrame(data=X_train,columns=df.columns)\n",
    "#     x_pd_test=pd.DataFrame(data=X_test,columns=df.columns)\n",
    "#     change_data_types(continuous_columns,categorical_columns,x_pd_train)\n",
    "#     change_data_types(continuous_columns,categorical_columns,x_pd_test)\n",
    "#     x_pd_train['churn_float'] = x_pd_train['churn_float'].astype('float64')\n",
    "#     #https://stackoverflow.com/questions/23018306/how-to-silence-statsmodels-fit-in-python - silence output\n",
    "#     logreg = sm.logit(formula=\"churn_float ~  C(homeOwner)+avgReceivedMins+avgrecurringCharge\", data=x_pd_train).fit(disp=0)\n",
    "#     x_pd_test['churn_float']=x_pd_test['churn_float'].astype('float64')\n",
    "#     prediction = logreg.predict(x_pd_test)\n",
    "#     y = x_pd_test['churn_float']\n",
    "#     #thresholding at 0.5\n",
    "#     if prediction[0]>0.5:\n",
    "#         prediction[0]=1.0\n",
    "#     else:\n",
    "#         prediction[0]=0.0\n",
    "#     accuracy += metrics.accuracy_score(x_pd_test['churn_float'], prediction)\n",
    "#     i+=1\n",
    "\n",
    "# accuracy\n",
    "# avg_accuracy=accuracy/i\n",
    "# print(\"Model accuracy:\",avg_accuracy)"
   ]
  },
  {
   "cell_type": "code",
   "execution_count": 54,
   "metadata": {
    "collapsed": true
   },
   "outputs": [],
   "source": [
    "#lm_test = sm.ols(formula=\"churn_float ~ C(homeOwner)+C(smartPhone)+C(creditCard)+C(income)+numRetentionOffersAccepted +newFrequentNumbers+numRetentionCalls+lastMonthCustomerCareCalls+avgDroppedCalls+peakOffPeakRatio+avgInCalls+avgOutCalls+avgRoamCalls+avgOverBundleMins+avgrecurringCharge+avgMins+avgBill+handsetAge+ numHandsets +avgReceivedMins + age\", data=df_training).fit()"
   ]
  },
  {
   "cell_type": "markdown",
   "metadata": {},
   "source": [
    "C(homeOwner)[T.True]   \n",
    "avgrecurringCharge      \n",
    "avgReceivedMins\n",
    "Seems to be best combination so far"
   ]
  },
  {
   "cell_type": "code",
   "execution_count": 55,
   "metadata": {
    "collapsed": true
   },
   "outputs": [],
   "source": [
    "import seaborn as sns"
   ]
  },
  {
   "cell_type": "code",
   "execution_count": 56,
   "metadata": {
    "collapsed": true
   },
   "outputs": [],
   "source": [
    "# df_training[df_training['churn'] == True][['lastMonthCustomerCareCalls']].hist(figsize=(7,7), bins=40)\n",
    "# df_training[df_training['churn'] == False][['lastMonthCustomerCareCalls']].hist(figsize=(7,7), bins=40)"
   ]
  },
  {
   "cell_type": "code",
   "execution_count": 57,
   "metadata": {
    "collapsed": true
   },
   "outputs": [],
   "source": [
    "# df_dummyt = df_training[(df_training['lastMonthCustomerCareCalls']>15)&(df_training['churn']==True)]"
   ]
  },
  {
   "cell_type": "code",
   "execution_count": 58,
   "metadata": {
    "collapsed": true
   },
   "outputs": [],
   "source": [
    "# df_dummyf = df_training[(df_training['lastMonthCustomerCareCalls']>15)&(df_training['churn']==False)]"
   ]
  },
  {
   "cell_type": "code",
   "execution_count": 59,
   "metadata": {
    "collapsed": true
   },
   "outputs": [],
   "source": [
    "# df_dummyt.shape"
   ]
  },
  {
   "cell_type": "code",
   "execution_count": 60,
   "metadata": {
    "collapsed": true
   },
   "outputs": [],
   "source": [
    "# df_dummyf.shape"
   ]
  },
  {
   "cell_type": "code",
   "execution_count": 61,
   "metadata": {
    "collapsed": true
   },
   "outputs": [],
   "source": [
    "change_data_types(categorical=categorical_columns,continuous=continuous_columns,df=df)"
   ]
  },
  {
   "cell_type": "code",
   "execution_count": 278,
   "metadata": {
    "collapsed": true
   },
   "outputs": [],
   "source": [
    "def k_fold_cross_validation(k,df_input,model,mode='linear'):\n",
    "    accuracy=0\n",
    "    for i in range (k):\n",
    "        if i%100==0 and i!=0:\n",
    "            print(\"working\",i,\"Current accuracy\",accuracy/i)\n",
    "        df_tesst=df_input[i:i+int(df_input.shape[0]/k)]\n",
    "        df_temp1=df_input[:i]\n",
    "        df_temp2=df_input[i+int(df_input.shape[0]/k):]\n",
    "        df_trrain=pd.concat([df_temp1,df_temp2])\n",
    "        if mode=='linear':\n",
    "            fit = sm.ols(formula=model, data=df_trrain).fit()\n",
    "        else:\n",
    "            fit = sm.logit(formula=model, data=df_trrain).fit(disp=0)\n",
    "            \n",
    "        predict = fit.predict(df_tesst).as_matrix()\n",
    "            \n",
    "        #thresholding at 0.\n",
    "        for i in range(len(predict)):\n",
    "            if predict[i]>0.5:\n",
    "                predict[i]=1.0\n",
    "            else:\n",
    "                predict[i]=0.0\n",
    "        accuracy += metrics.accuracy_score(df_tesst['churn_float'], predict)\n",
    "    print(accuracy/k)"
   ]
  },
  {
   "cell_type": "code",
   "execution_count": 63,
   "metadata": {},
   "outputs": [
    {
     "name": "stdout",
     "output_type": "stream",
     "text": [
      "0.571\n"
     ]
    }
   ],
   "source": [
    "k_fold_cross_validation(10,df,\"churn_float ~ C(homeOwner)+avgReceivedMins+handsetAge+avgrecurringCharge+lifeTime\")"
   ]
  },
  {
   "cell_type": "code",
   "execution_count": 64,
   "metadata": {},
   "outputs": [
    {
     "name": "stdout",
     "output_type": "stream",
     "text": [
      "0.554\n"
     ]
    }
   ],
   "source": [
    "k_fold_cross_validation(10,df,\"churn_float ~ C(homeOwner)+avgReceivedMins+avgrecurringCharge+lifeTime\")"
   ]
  },
  {
   "cell_type": "code",
   "execution_count": 65,
   "metadata": {
    "collapsed": true
   },
   "outputs": [],
   "source": [
    "df['incRatio']=df['income'].astype('int64')/df['avgrecurringCharge']"
   ]
  },
  {
   "cell_type": "code",
   "execution_count": 66,
   "metadata": {},
   "outputs": [
    {
     "data": {
      "text/html": [
       "<div>\n",
       "<style scoped>\n",
       "    .dataframe tbody tr th:only-of-type {\n",
       "        vertical-align: middle;\n",
       "    }\n",
       "\n",
       "    .dataframe tbody tr th {\n",
       "        vertical-align: top;\n",
       "    }\n",
       "\n",
       "    .dataframe thead th {\n",
       "        text-align: right;\n",
       "    }\n",
       "</style>\n",
       "<table border=\"1\" class=\"dataframe\">\n",
       "  <thead>\n",
       "    <tr style=\"text-align: right;\">\n",
       "      <th></th>\n",
       "      <th>age</th>\n",
       "      <th>children</th>\n",
       "      <th>income</th>\n",
       "      <th>numHandsets</th>\n",
       "      <th>handsetAge</th>\n",
       "      <th>smartPhone</th>\n",
       "      <th>creditRating</th>\n",
       "      <th>homeOwner</th>\n",
       "      <th>creditCard</th>\n",
       "      <th>avgBill</th>\n",
       "      <th>avgMins</th>\n",
       "      <th>avgrecurringCharge</th>\n",
       "      <th>avgOverBundleMins</th>\n",
       "      <th>avgRoamCalls</th>\n",
       "      <th>callMinutesChangePct</th>\n",
       "      <th>billAmountChangePct</th>\n",
       "      <th>avgReceivedMins</th>\n",
       "      <th>avgOutCalls</th>\n",
       "      <th>avgInCalls</th>\n",
       "      <th>peakOffPeakRatio</th>\n",
       "      <th>peakOffPeakRatioChangePct</th>\n",
       "      <th>avgDroppedCalls</th>\n",
       "      <th>lifeTime</th>\n",
       "      <th>lastMonthCustomerCareCalls</th>\n",
       "      <th>numRetentionCalls</th>\n",
       "      <th>numRetentionOffersAccepted</th>\n",
       "      <th>newFrequentNumbers</th>\n",
       "      <th>churn</th>\n",
       "      <th>churn_float</th>\n",
       "      <th>incRatio</th>\n",
       "    </tr>\n",
       "  </thead>\n",
       "  <tbody>\n",
       "    <tr>\n",
       "      <th>0</th>\n",
       "      <td>28.0</td>\n",
       "      <td>False</td>\n",
       "      <td>6</td>\n",
       "      <td>2.0</td>\n",
       "      <td>220.0</td>\n",
       "      <td>True</td>\n",
       "      <td>E</td>\n",
       "      <td>False</td>\n",
       "      <td>True</td>\n",
       "      <td>76.09</td>\n",
       "      <td>1290.75</td>\n",
       "      <td>59.99</td>\n",
       "      <td>54.50</td>\n",
       "      <td>2.6</td>\n",
       "      <td>4.685</td>\n",
       "      <td>-0.4388</td>\n",
       "      <td>240.34</td>\n",
       "      <td>51.33</td>\n",
       "      <td>11.67</td>\n",
       "      <td>0.901895</td>\n",
       "      <td>16.012870</td>\n",
       "      <td>5.00</td>\n",
       "      <td>10.0</td>\n",
       "      <td>21.67</td>\n",
       "      <td>0.0</td>\n",
       "      <td>0.0</td>\n",
       "      <td>0.0</td>\n",
       "      <td>True</td>\n",
       "      <td>1.0</td>\n",
       "      <td>0.100017</td>\n",
       "    </tr>\n",
       "    <tr>\n",
       "      <th>1</th>\n",
       "      <td>52.0</td>\n",
       "      <td>False</td>\n",
       "      <td>1</td>\n",
       "      <td>1.0</td>\n",
       "      <td>730.0</td>\n",
       "      <td>True</td>\n",
       "      <td>C</td>\n",
       "      <td>True</td>\n",
       "      <td>False</td>\n",
       "      <td>35.59</td>\n",
       "      <td>208.25</td>\n",
       "      <td>30.25</td>\n",
       "      <td>11.25</td>\n",
       "      <td>0.0</td>\n",
       "      <td>0.615</td>\n",
       "      <td>1.0352</td>\n",
       "      <td>91.06</td>\n",
       "      <td>3.33</td>\n",
       "      <td>9.33</td>\n",
       "      <td>1.529568</td>\n",
       "      <td>20.921980</td>\n",
       "      <td>1.33</td>\n",
       "      <td>25.0</td>\n",
       "      <td>0.00</td>\n",
       "      <td>0.0</td>\n",
       "      <td>0.0</td>\n",
       "      <td>0.0</td>\n",
       "      <td>True</td>\n",
       "      <td>1.0</td>\n",
       "      <td>0.033058</td>\n",
       "    </tr>\n",
       "    <tr>\n",
       "      <th>2</th>\n",
       "      <td>24.0</td>\n",
       "      <td>False</td>\n",
       "      <td>0</td>\n",
       "      <td>1.0</td>\n",
       "      <td>574.0</td>\n",
       "      <td>True</td>\n",
       "      <td>E</td>\n",
       "      <td>True</td>\n",
       "      <td>False</td>\n",
       "      <td>79.95</td>\n",
       "      <td>522.00</td>\n",
       "      <td>84.98</td>\n",
       "      <td>0.00</td>\n",
       "      <td>0.0</td>\n",
       "      <td>5.340</td>\n",
       "      <td>0.1998</td>\n",
       "      <td>103.01</td>\n",
       "      <td>32.67</td>\n",
       "      <td>12.33</td>\n",
       "      <td>0.928293</td>\n",
       "      <td>-11.860777</td>\n",
       "      <td>1.00</td>\n",
       "      <td>19.0</td>\n",
       "      <td>1.67</td>\n",
       "      <td>0.0</td>\n",
       "      <td>0.0</td>\n",
       "      <td>0.0</td>\n",
       "      <td>False</td>\n",
       "      <td>0.0</td>\n",
       "      <td>0.000000</td>\n",
       "    </tr>\n",
       "    <tr>\n",
       "      <th>3</th>\n",
       "      <td>44.0</td>\n",
       "      <td>True</td>\n",
       "      <td>9</td>\n",
       "      <td>1.0</td>\n",
       "      <td>329.0</td>\n",
       "      <td>True</td>\n",
       "      <td>B</td>\n",
       "      <td>False</td>\n",
       "      <td>True</td>\n",
       "      <td>52.49</td>\n",
       "      <td>449.25</td>\n",
       "      <td>39.99</td>\n",
       "      <td>90.75</td>\n",
       "      <td>0.0</td>\n",
       "      <td>-4.265</td>\n",
       "      <td>-0.4500</td>\n",
       "      <td>0.00</td>\n",
       "      <td>0.00</td>\n",
       "      <td>0.00</td>\n",
       "      <td>0.000000</td>\n",
       "      <td>21.730942</td>\n",
       "      <td>0.00</td>\n",
       "      <td>11.0</td>\n",
       "      <td>0.00</td>\n",
       "      <td>0.0</td>\n",
       "      <td>0.0</td>\n",
       "      <td>0.0</td>\n",
       "      <td>True</td>\n",
       "      <td>1.0</td>\n",
       "      <td>0.225056</td>\n",
       "    </tr>\n",
       "    <tr>\n",
       "      <th>4</th>\n",
       "      <td>50.0</td>\n",
       "      <td>False</td>\n",
       "      <td>7</td>\n",
       "      <td>1.0</td>\n",
       "      <td>336.0</td>\n",
       "      <td>True</td>\n",
       "      <td>B</td>\n",
       "      <td>True</td>\n",
       "      <td>False</td>\n",
       "      <td>34.99</td>\n",
       "      <td>191.75</td>\n",
       "      <td>44.99</td>\n",
       "      <td>0.00</td>\n",
       "      <td>0.0</td>\n",
       "      <td>0.045</td>\n",
       "      <td>0.0000</td>\n",
       "      <td>44.57</td>\n",
       "      <td>7.67</td>\n",
       "      <td>6.67</td>\n",
       "      <td>1.608413</td>\n",
       "      <td>10.314695</td>\n",
       "      <td>15.00</td>\n",
       "      <td>12.0</td>\n",
       "      <td>0.00</td>\n",
       "      <td>0.0</td>\n",
       "      <td>0.0</td>\n",
       "      <td>0.0</td>\n",
       "      <td>False</td>\n",
       "      <td>0.0</td>\n",
       "      <td>0.155590</td>\n",
       "    </tr>\n",
       "  </tbody>\n",
       "</table>\n",
       "</div>"
      ],
      "text/plain": [
       "    age children income  numHandsets  handsetAge smartPhone creditRating homeOwner creditCard  avgBill  avgMins  avgrecurringCharge  avgOverBundleMins  avgRoamCalls  callMinutesChangePct  billAmountChangePct  avgReceivedMins  avgOutCalls  avgInCalls  peakOffPeakRatio  peakOffPeakRatioChangePct  avgDroppedCalls  lifeTime  lastMonthCustomerCareCalls  numRetentionCalls  numRetentionOffersAccepted  newFrequentNumbers  churn  churn_float  incRatio\n",
       "0  28.0    False      6          2.0       220.0       True            E     False       True    76.09  1290.75               59.99              54.50           2.6                 4.685              -0.4388           240.34        51.33       11.67          0.901895                  16.012870             5.00      10.0                       21.67                0.0                         0.0                 0.0   True          1.0  0.100017\n",
       "1  52.0    False      1          1.0       730.0       True            C      True      False    35.59   208.25               30.25              11.25           0.0                 0.615               1.0352            91.06         3.33        9.33          1.529568                  20.921980             1.33      25.0                        0.00                0.0                         0.0                 0.0   True          1.0  0.033058\n",
       "2  24.0    False      0          1.0       574.0       True            E      True      False    79.95   522.00               84.98               0.00           0.0                 5.340               0.1998           103.01        32.67       12.33          0.928293                 -11.860777             1.00      19.0                        1.67                0.0                         0.0                 0.0  False          0.0  0.000000\n",
       "3  44.0     True      9          1.0       329.0       True            B     False       True    52.49   449.25               39.99              90.75           0.0                -4.265              -0.4500             0.00         0.00        0.00          0.000000                  21.730942             0.00      11.0                        0.00                0.0                         0.0                 0.0   True          1.0  0.225056\n",
       "4  50.0    False      7          1.0       336.0       True            B      True      False    34.99   191.75               44.99               0.00           0.0                 0.045               0.0000            44.57         7.67        6.67          1.608413                  10.314695            15.00      12.0                        0.00                0.0                         0.0                 0.0  False          0.0  0.155590"
      ]
     },
     "execution_count": 66,
     "metadata": {},
     "output_type": "execute_result"
    }
   ],
   "source": [
    "df.head()"
   ]
  },
  {
   "cell_type": "code",
   "execution_count": 67,
   "metadata": {},
   "outputs": [
    {
     "name": "stdout",
     "output_type": "stream",
     "text": [
      "0.547\n"
     ]
    }
   ],
   "source": [
    "k_fold_cross_validation(10,df,\"churn_float ~ C(homeOwner)+avgReceivedMins+avgrecurringCharge+handsetAge\")"
   ]
  },
  {
   "cell_type": "code",
   "execution_count": 68,
   "metadata": {},
   "outputs": [
    {
     "name": "stdout",
     "output_type": "stream",
     "text": [
      "0.551\n"
     ]
    }
   ],
   "source": [
    "k_fold_cross_validation(10,df,\"churn_float ~ C(homeOwner)+avgReceivedMins+avgrecurringCharge+handsetAge+numRetentionOffersAccepted\")"
   ]
  },
  {
   "cell_type": "code",
   "execution_count": 69,
   "metadata": {},
   "outputs": [
    {
     "name": "stdout",
     "output_type": "stream",
     "text": [
      "0.559\n"
     ]
    }
   ],
   "source": [
    "k_fold_cross_validation(10,df,\"churn_float ~ C(homeOwner)+avgrecurringCharge+handsetAge\")"
   ]
  },
  {
   "cell_type": "code",
   "execution_count": 70,
   "metadata": {},
   "outputs": [
    {
     "name": "stdout",
     "output_type": "stream",
     "text": [
      "0.5899999999999999\n"
     ]
    }
   ],
   "source": [
    "k_fold_cross_validation(10,df,\"churn_float ~ C(homeOwner)+avgReceivedMins+avgrecurringCharge+numRetentionOffersAccepted\")"
   ]
  },
  {
   "cell_type": "code",
   "execution_count": 71,
   "metadata": {},
   "outputs": [
    {
     "name": "stdout",
     "output_type": "stream",
     "text": [
      "0.585\n"
     ]
    }
   ],
   "source": [
    "k_fold_cross_validation(10,df,\"churn_float ~ C(homeOwner)+avgReceivedMins+avgrecurringCharge+numRetentionOffersAccepted+C(children)+C(creditCard)+lifeTime+handsetAge\")"
   ]
  },
  {
   "cell_type": "code",
   "execution_count": 72,
   "metadata": {},
   "outputs": [
    {
     "name": "stdout",
     "output_type": "stream",
     "text": [
      "0.547\n"
     ]
    }
   ],
   "source": [
    "k_fold_cross_validation(10,df,\"churn_float ~ C(homeOwner)+avgReceivedMins\")"
   ]
  },
  {
   "cell_type": "code",
   "execution_count": 73,
   "metadata": {},
   "outputs": [
    {
     "name": "stdout",
     "output_type": "stream",
     "text": [
      "0.5740000000000001\n"
     ]
    }
   ],
   "source": [
    "k_fold_cross_validation(10,df,\"churn_float ~ C(homeOwner)+avgrecurringCharge\")"
   ]
  },
  {
   "cell_type": "code",
   "execution_count": 74,
   "metadata": {},
   "outputs": [
    {
     "name": "stdout",
     "output_type": "stream",
     "text": [
      "0.579\n"
     ]
    }
   ],
   "source": [
    "k_fold_cross_validation(10,df,\"churn_float ~ C(homeOwner)+avgReceivedMins+avgrecurringCharge\")"
   ]
  },
  {
   "cell_type": "code",
   "execution_count": 166,
   "metadata": {
    "collapsed": true
   },
   "outputs": [],
   "source": [
    "df['incRatio']=df['income'].astype('int64')*df['avgrecurringCharge']"
   ]
  },
  {
   "cell_type": "code",
   "execution_count": 163,
   "metadata": {},
   "outputs": [
    {
     "name": "stdout",
     "output_type": "stream",
     "text": [
      "0.6159999999999999\n"
     ]
    }
   ],
   "source": [
    "k_fold_cross_validation(10,df,\"churn_float ~ C(homeOwner)+incRatio+avgReceivedMins+avgrecurringCharge+numRetentionOffersAccepted\")"
   ]
  },
  {
   "cell_type": "code",
   "execution_count": 164,
   "metadata": {},
   "outputs": [
    {
     "data": {
      "text/plain": [
       "(14, 30)"
      ]
     },
     "execution_count": 164,
     "metadata": {},
     "output_type": "execute_result"
    }
   ],
   "source": [
    "df[(df['numRetentionOffersAccepted']==1)&(df['churn_float']==1)].shape"
   ]
  },
  {
   "cell_type": "code",
   "execution_count": 281,
   "metadata": {
    "collapsed": true
   },
   "outputs": [],
   "source": [
    "df['yeshomeOwner']=False\n",
    "df['nohomeOwner']=False"
   ]
  },
  {
   "cell_type": "code",
   "execution_count": 282,
   "metadata": {
    "collapsed": true
   },
   "outputs": [],
   "source": [
    "df.loc[df['homeOwner']==True, 'yeshomeOwner'] = True\n",
    "df.loc[df['homeOwner']==False, 'nohomeOwner'] = True"
   ]
  },
  {
   "cell_type": "code",
   "execution_count": 284,
   "metadata": {
    "collapsed": true
   },
   "outputs": [],
   "source": [
    "df['yeshomeOwner']=df['yeshomeOwner'].astype('category')\n",
    "df['nohomeOwner']=df['nohomeOwner'].astype('category')"
   ]
  },
  {
   "cell_type": "code",
   "execution_count": 286,
   "metadata": {},
   "outputs": [
    {
     "name": "stdout",
     "output_type": "stream",
     "text": [
      "0.617\n"
     ]
    }
   ],
   "source": [
    "k_fold_cross_validation(10,df,\"churn_float ~ C(homeOwner)+incRatio+avgReceivedMins+avgrecurringCharge+numRetentionOffersAccepted\",'log')"
   ]
  },
  {
   "cell_type": "code",
   "execution_count": 184,
   "metadata": {
    "collapsed": true
   },
   "outputs": [],
   "source": [
    "df['hogc']=False"
   ]
  },
  {
   "cell_type": "code",
   "execution_count": 185,
   "metadata": {},
   "outputs": [
    {
     "data": {
      "text/plain": [
       "995    False\n",
       "996    False\n",
       "997    False\n",
       "998    False\n",
       "999    False\n",
       "Name: hogc, dtype: bool"
      ]
     },
     "execution_count": 185,
     "metadata": {},
     "output_type": "execute_result"
    }
   ],
   "source": [
    "df['hogc'].tail()"
   ]
  },
  {
   "cell_type": "code",
   "execution_count": 186,
   "metadata": {
    "collapsed": true
   },
   "outputs": [],
   "source": [
    "df.loc[(df['creditRating'] == 'A')&(df['homeOwner']==True), 'hogc'] = True"
   ]
  },
  {
   "cell_type": "code",
   "execution_count": 187,
   "metadata": {},
   "outputs": [],
   "source": [
    "df['hogc']=df['hogc'].astype('category')"
   ]
  },
  {
   "cell_type": "code",
   "execution_count": 200,
   "metadata": {
    "collapsed": true
   },
   "outputs": [],
   "source": [
    "df['highIncome']=False"
   ]
  },
  {
   "cell_type": "code",
   "execution_count": 201,
   "metadata": {
    "collapsed": true
   },
   "outputs": [],
   "source": [
    "df.loc[df['income'] == 0, 'highIncome'] = True"
   ]
  },
  {
   "cell_type": "code",
   "execution_count": 272,
   "metadata": {},
   "outputs": [
    {
     "name": "stdout",
     "output_type": "stream",
     "text": [
      "Optimization terminated successfully.\n",
      "         Current function value: 0.685714\n",
      "         Iterations 4\n",
      "Optimization terminated successfully.\n",
      "         Current function value: 0.685820\n",
      "         Iterations 4\n",
      "Optimization terminated successfully.\n",
      "         Current function value: 0.685642\n",
      "         Iterations 4\n",
      "Optimization terminated successfully.\n",
      "         Current function value: 0.685984\n",
      "         Iterations 4\n",
      "Optimization terminated successfully.\n",
      "         Current function value: 0.686173\n",
      "         Iterations 4\n",
      "Optimization terminated successfully.\n",
      "         Current function value: 0.686234\n",
      "         Iterations 4\n",
      "Optimization terminated successfully.\n",
      "         Current function value: 0.686194\n",
      "         Iterations 4\n",
      "Optimization terminated successfully.\n",
      "         Current function value: 0.686355\n",
      "         Iterations 4\n",
      "Optimization terminated successfully.\n",
      "         Current function value: 0.686439\n",
      "         Iterations 4\n",
      "Optimization terminated successfully.\n",
      "         Current function value: 0.686509\n",
      "         Iterations 4\n",
      "0.5740000000000001\n"
     ]
    }
   ],
   "source": [
    "k_fold_cross_validation(10,df,\"churn_float ~ incRatio+avgReceivedMins+avgrecurringCharge+numRetentionOffersAccepted\",'log')"
   ]
  },
  {
   "cell_type": "code",
   "execution_count": 221,
   "metadata": {},
   "outputs": [],
   "source": [
    "continuous_columns = df.select_dtypes(include=['int64','float64']).columns"
   ]
  },
  {
   "cell_type": "code",
   "execution_count": 222,
   "metadata": {
    "collapsed": true
   },
   "outputs": [],
   "source": [
    "df_cont=df[continuous_columns]"
   ]
  },
  {
   "cell_type": "code",
   "execution_count": 223,
   "metadata": {
    "collapsed": true
   },
   "outputs": [],
   "source": [
    "df_norm = (df_cont - df_cont.min()) / (df_cont.max() - df_cont.min())"
   ]
  },
  {
   "cell_type": "code",
   "execution_count": 224,
   "metadata": {},
   "outputs": [],
   "source": [
    "for i in categorical_columns:\n",
    "    df_norm[i]=df[i]"
   ]
  },
  {
   "cell_type": "code",
   "execution_count": 226,
   "metadata": {},
   "outputs": [
    {
     "data": {
      "text/html": [
       "<div>\n",
       "<style scoped>\n",
       "    .dataframe tbody tr th:only-of-type {\n",
       "        vertical-align: middle;\n",
       "    }\n",
       "\n",
       "    .dataframe tbody tr th {\n",
       "        vertical-align: top;\n",
       "    }\n",
       "\n",
       "    .dataframe thead th {\n",
       "        text-align: right;\n",
       "    }\n",
       "</style>\n",
       "<table border=\"1\" class=\"dataframe\">\n",
       "  <thead>\n",
       "    <tr style=\"text-align: right;\">\n",
       "      <th></th>\n",
       "      <th>age</th>\n",
       "      <th>numHandsets</th>\n",
       "      <th>handsetAge</th>\n",
       "      <th>avgBill</th>\n",
       "      <th>avgMins</th>\n",
       "      <th>avgrecurringCharge</th>\n",
       "      <th>avgOverBundleMins</th>\n",
       "      <th>avgRoamCalls</th>\n",
       "      <th>callMinutesChangePct</th>\n",
       "      <th>billAmountChangePct</th>\n",
       "      <th>avgReceivedMins</th>\n",
       "      <th>avgOutCalls</th>\n",
       "      <th>avgInCalls</th>\n",
       "      <th>peakOffPeakRatio</th>\n",
       "      <th>peakOffPeakRatioChangePct</th>\n",
       "      <th>avgDroppedCalls</th>\n",
       "      <th>lifeTime</th>\n",
       "      <th>lastMonthCustomerCareCalls</th>\n",
       "      <th>numRetentionCalls</th>\n",
       "      <th>numRetentionOffersAccepted</th>\n",
       "      <th>newFrequentNumbers</th>\n",
       "      <th>churn_float</th>\n",
       "      <th>incRatio</th>\n",
       "      <th>children</th>\n",
       "      <th>income</th>\n",
       "      <th>smartPhone</th>\n",
       "      <th>creditRating</th>\n",
       "      <th>homeOwner</th>\n",
       "      <th>creditCard</th>\n",
       "      <th>churn</th>\n",
       "    </tr>\n",
       "  </thead>\n",
       "  <tbody>\n",
       "    <tr>\n",
       "      <th>0</th>\n",
       "      <td>0.114286</td>\n",
       "      <td>0.05</td>\n",
       "      <td>0.120928</td>\n",
       "      <td>0.150999</td>\n",
       "      <td>0.211468</td>\n",
       "      <td>0.299725</td>\n",
       "      <td>0.028497</td>\n",
       "      <td>0.033631</td>\n",
       "      <td>0.466992</td>\n",
       "      <td>0.491190</td>\n",
       "      <td>0.132219</td>\n",
       "      <td>0.122702</td>\n",
       "      <td>0.056017</td>\n",
       "      <td>0.023491</td>\n",
       "      <td>0.758813</td>\n",
       "      <td>0.016411</td>\n",
       "      <td>0.074074</td>\n",
       "      <td>0.275454</td>\n",
       "      <td>0.0</td>\n",
       "      <td>0.0</td>\n",
       "      <td>0.0</td>\n",
       "      <td>1.0</td>\n",
       "      <td>0.342823</td>\n",
       "      <td>False</td>\n",
       "      <td>6</td>\n",
       "      <td>True</td>\n",
       "      <td>E</td>\n",
       "      <td>False</td>\n",
       "      <td>True</td>\n",
       "      <td>True</td>\n",
       "    </tr>\n",
       "    <tr>\n",
       "      <th>1</th>\n",
       "      <td>0.457143</td>\n",
       "      <td>0.00</td>\n",
       "      <td>0.402540</td>\n",
       "      <td>0.070628</td>\n",
       "      <td>0.034118</td>\n",
       "      <td>0.151137</td>\n",
       "      <td>0.005882</td>\n",
       "      <td>0.000000</td>\n",
       "      <td>0.411821</td>\n",
       "      <td>0.632345</td>\n",
       "      <td>0.050095</td>\n",
       "      <td>0.007960</td>\n",
       "      <td>0.044785</td>\n",
       "      <td>0.039839</td>\n",
       "      <td>0.834323</td>\n",
       "      <td>0.004365</td>\n",
       "      <td>0.351852</td>\n",
       "      <td>0.000000</td>\n",
       "      <td>0.0</td>\n",
       "      <td>0.0</td>\n",
       "      <td>0.0</td>\n",
       "      <td>1.0</td>\n",
       "      <td>0.028811</td>\n",
       "      <td>False</td>\n",
       "      <td>1</td>\n",
       "      <td>True</td>\n",
       "      <td>C</td>\n",
       "      <td>True</td>\n",
       "      <td>False</td>\n",
       "      <td>True</td>\n",
       "    </tr>\n",
       "    <tr>\n",
       "      <th>2</th>\n",
       "      <td>0.057143</td>\n",
       "      <td>0.00</td>\n",
       "      <td>0.316400</td>\n",
       "      <td>0.158659</td>\n",
       "      <td>0.085521</td>\n",
       "      <td>0.424582</td>\n",
       "      <td>0.000000</td>\n",
       "      <td>0.000000</td>\n",
       "      <td>0.475871</td>\n",
       "      <td>0.552344</td>\n",
       "      <td>0.056669</td>\n",
       "      <td>0.078096</td>\n",
       "      <td>0.059185</td>\n",
       "      <td>0.024178</td>\n",
       "      <td>0.330076</td>\n",
       "      <td>0.003282</td>\n",
       "      <td>0.240741</td>\n",
       "      <td>0.021228</td>\n",
       "      <td>0.0</td>\n",
       "      <td>0.0</td>\n",
       "      <td>0.0</td>\n",
       "      <td>0.0</td>\n",
       "      <td>0.000000</td>\n",
       "      <td>False</td>\n",
       "      <td>0</td>\n",
       "      <td>True</td>\n",
       "      <td>E</td>\n",
       "      <td>True</td>\n",
       "      <td>False</td>\n",
       "      <td>False</td>\n",
       "    </tr>\n",
       "    <tr>\n",
       "      <th>3</th>\n",
       "      <td>0.342857</td>\n",
       "      <td>0.00</td>\n",
       "      <td>0.181115</td>\n",
       "      <td>0.104165</td>\n",
       "      <td>0.073602</td>\n",
       "      <td>0.199800</td>\n",
       "      <td>0.047451</td>\n",
       "      <td>0.000000</td>\n",
       "      <td>0.345669</td>\n",
       "      <td>0.490117</td>\n",
       "      <td>0.000000</td>\n",
       "      <td>0.000000</td>\n",
       "      <td>0.000000</td>\n",
       "      <td>0.000000</td>\n",
       "      <td>0.846766</td>\n",
       "      <td>0.000000</td>\n",
       "      <td>0.092593</td>\n",
       "      <td>0.000000</td>\n",
       "      <td>0.0</td>\n",
       "      <td>0.0</td>\n",
       "      <td>0.0</td>\n",
       "      <td>1.0</td>\n",
       "      <td>0.342794</td>\n",
       "      <td>True</td>\n",
       "      <td>9</td>\n",
       "      <td>True</td>\n",
       "      <td>B</td>\n",
       "      <td>False</td>\n",
       "      <td>True</td>\n",
       "      <td>True</td>\n",
       "    </tr>\n",
       "    <tr>\n",
       "      <th>4</th>\n",
       "      <td>0.428571</td>\n",
       "      <td>0.00</td>\n",
       "      <td>0.184981</td>\n",
       "      <td>0.069437</td>\n",
       "      <td>0.031415</td>\n",
       "      <td>0.224781</td>\n",
       "      <td>0.000000</td>\n",
       "      <td>0.000000</td>\n",
       "      <td>0.404094</td>\n",
       "      <td>0.533211</td>\n",
       "      <td>0.024519</td>\n",
       "      <td>0.018335</td>\n",
       "      <td>0.032017</td>\n",
       "      <td>0.041892</td>\n",
       "      <td>0.671167</td>\n",
       "      <td>0.049234</td>\n",
       "      <td>0.111111</td>\n",
       "      <td>0.000000</td>\n",
       "      <td>0.0</td>\n",
       "      <td>0.0</td>\n",
       "      <td>0.0</td>\n",
       "      <td>0.0</td>\n",
       "      <td>0.299953</td>\n",
       "      <td>False</td>\n",
       "      <td>7</td>\n",
       "      <td>True</td>\n",
       "      <td>B</td>\n",
       "      <td>True</td>\n",
       "      <td>False</td>\n",
       "      <td>False</td>\n",
       "    </tr>\n",
       "  </tbody>\n",
       "</table>\n",
       "</div>"
      ],
      "text/plain": [
       "        age  numHandsets  handsetAge   avgBill   avgMins  avgrecurringCharge  avgOverBundleMins  avgRoamCalls  callMinutesChangePct  billAmountChangePct  avgReceivedMins  avgOutCalls  avgInCalls  peakOffPeakRatio  peakOffPeakRatioChangePct  avgDroppedCalls  lifeTime  lastMonthCustomerCareCalls  numRetentionCalls  numRetentionOffersAccepted  newFrequentNumbers  churn_float  incRatio children income smartPhone creditRating homeOwner creditCard  churn\n",
       "0  0.114286         0.05    0.120928  0.150999  0.211468            0.299725           0.028497      0.033631              0.466992             0.491190         0.132219     0.122702    0.056017          0.023491                   0.758813         0.016411  0.074074                    0.275454                0.0                         0.0                 0.0          1.0  0.342823    False      6       True            E     False       True   True\n",
       "1  0.457143         0.00    0.402540  0.070628  0.034118            0.151137           0.005882      0.000000              0.411821             0.632345         0.050095     0.007960    0.044785          0.039839                   0.834323         0.004365  0.351852                    0.000000                0.0                         0.0                 0.0          1.0  0.028811    False      1       True            C      True      False   True\n",
       "2  0.057143         0.00    0.316400  0.158659  0.085521            0.424582           0.000000      0.000000              0.475871             0.552344         0.056669     0.078096    0.059185          0.024178                   0.330076         0.003282  0.240741                    0.021228                0.0                         0.0                 0.0          0.0  0.000000    False      0       True            E      True      False  False\n",
       "3  0.342857         0.00    0.181115  0.104165  0.073602            0.199800           0.047451      0.000000              0.345669             0.490117         0.000000     0.000000    0.000000          0.000000                   0.846766         0.000000  0.092593                    0.000000                0.0                         0.0                 0.0          1.0  0.342794     True      9       True            B     False       True   True\n",
       "4  0.428571         0.00    0.184981  0.069437  0.031415            0.224781           0.000000      0.000000              0.404094             0.533211         0.024519     0.018335    0.032017          0.041892                   0.671167         0.049234  0.111111                    0.000000                0.0                         0.0                 0.0          0.0  0.299953    False      7       True            B      True      False  False"
      ]
     },
     "execution_count": 226,
     "metadata": {},
     "output_type": "execute_result"
    }
   ],
   "source": [
    "df_norm.head()"
   ]
  },
  {
   "cell_type": "code",
   "execution_count": 227,
   "metadata": {},
   "outputs": [
    {
     "name": "stdout",
     "output_type": "stream",
     "text": [
      "0.6159999999999999\n"
     ]
    }
   ],
   "source": [
    "k_fold_cross_validation(10,df_norm,\"churn_float ~ C(homeOwner)+incRatio+avgReceivedMins+avgrecurringCharge+numRetentionOffersAccepted\")"
   ]
  },
  {
   "cell_type": "code",
   "execution_count": 228,
   "metadata": {
    "collapsed": true
   },
   "outputs": [],
   "source": [
    "from sklearn.neighbors import KNeighborsClassifier"
   ]
  },
  {
   "cell_type": "code",
   "execution_count": 232,
   "metadata": {},
   "outputs": [
    {
     "data": {
      "text/html": [
       "<div>\n",
       "<style scoped>\n",
       "    .dataframe tbody tr th:only-of-type {\n",
       "        vertical-align: middle;\n",
       "    }\n",
       "\n",
       "    .dataframe tbody tr th {\n",
       "        vertical-align: top;\n",
       "    }\n",
       "\n",
       "    .dataframe thead th {\n",
       "        text-align: right;\n",
       "    }\n",
       "</style>\n",
       "<table border=\"1\" class=\"dataframe\">\n",
       "  <thead>\n",
       "    <tr style=\"text-align: right;\">\n",
       "      <th></th>\n",
       "      <th>age</th>\n",
       "      <th>numHandsets</th>\n",
       "      <th>handsetAge</th>\n",
       "      <th>avgBill</th>\n",
       "      <th>avgMins</th>\n",
       "      <th>avgrecurringCharge</th>\n",
       "      <th>avgOverBundleMins</th>\n",
       "      <th>avgRoamCalls</th>\n",
       "      <th>callMinutesChangePct</th>\n",
       "      <th>billAmountChangePct</th>\n",
       "      <th>avgReceivedMins</th>\n",
       "      <th>avgOutCalls</th>\n",
       "      <th>avgInCalls</th>\n",
       "      <th>peakOffPeakRatio</th>\n",
       "      <th>peakOffPeakRatioChangePct</th>\n",
       "      <th>avgDroppedCalls</th>\n",
       "      <th>lifeTime</th>\n",
       "      <th>lastMonthCustomerCareCalls</th>\n",
       "      <th>numRetentionCalls</th>\n",
       "      <th>numRetentionOffersAccepted</th>\n",
       "      <th>newFrequentNumbers</th>\n",
       "      <th>incRatio</th>\n",
       "    </tr>\n",
       "  </thead>\n",
       "  <tbody>\n",
       "    <tr>\n",
       "      <th>0</th>\n",
       "      <td>28.0</td>\n",
       "      <td>2.0</td>\n",
       "      <td>220.0</td>\n",
       "      <td>76.09</td>\n",
       "      <td>1290.75</td>\n",
       "      <td>59.99</td>\n",
       "      <td>54.50</td>\n",
       "      <td>2.60</td>\n",
       "      <td>4.685</td>\n",
       "      <td>-0.4388</td>\n",
       "      <td>240.34</td>\n",
       "      <td>51.33</td>\n",
       "      <td>11.67</td>\n",
       "      <td>0.901895</td>\n",
       "      <td>16.012870</td>\n",
       "      <td>5.00</td>\n",
       "      <td>10.0</td>\n",
       "      <td>21.67</td>\n",
       "      <td>0.0</td>\n",
       "      <td>0.0</td>\n",
       "      <td>0.0</td>\n",
       "      <td>359.94</td>\n",
       "    </tr>\n",
       "    <tr>\n",
       "      <th>1</th>\n",
       "      <td>52.0</td>\n",
       "      <td>1.0</td>\n",
       "      <td>730.0</td>\n",
       "      <td>35.59</td>\n",
       "      <td>208.25</td>\n",
       "      <td>30.25</td>\n",
       "      <td>11.25</td>\n",
       "      <td>0.00</td>\n",
       "      <td>0.615</td>\n",
       "      <td>1.0352</td>\n",
       "      <td>91.06</td>\n",
       "      <td>3.33</td>\n",
       "      <td>9.33</td>\n",
       "      <td>1.529568</td>\n",
       "      <td>20.921980</td>\n",
       "      <td>1.33</td>\n",
       "      <td>25.0</td>\n",
       "      <td>0.00</td>\n",
       "      <td>0.0</td>\n",
       "      <td>0.0</td>\n",
       "      <td>0.0</td>\n",
       "      <td>30.25</td>\n",
       "    </tr>\n",
       "    <tr>\n",
       "      <th>2</th>\n",
       "      <td>24.0</td>\n",
       "      <td>1.0</td>\n",
       "      <td>574.0</td>\n",
       "      <td>79.95</td>\n",
       "      <td>522.00</td>\n",
       "      <td>84.98</td>\n",
       "      <td>0.00</td>\n",
       "      <td>0.00</td>\n",
       "      <td>5.340</td>\n",
       "      <td>0.1998</td>\n",
       "      <td>103.01</td>\n",
       "      <td>32.67</td>\n",
       "      <td>12.33</td>\n",
       "      <td>0.928293</td>\n",
       "      <td>-11.860777</td>\n",
       "      <td>1.00</td>\n",
       "      <td>19.0</td>\n",
       "      <td>1.67</td>\n",
       "      <td>0.0</td>\n",
       "      <td>0.0</td>\n",
       "      <td>0.0</td>\n",
       "      <td>0.00</td>\n",
       "    </tr>\n",
       "    <tr>\n",
       "      <th>3</th>\n",
       "      <td>44.0</td>\n",
       "      <td>1.0</td>\n",
       "      <td>329.0</td>\n",
       "      <td>52.49</td>\n",
       "      <td>449.25</td>\n",
       "      <td>39.99</td>\n",
       "      <td>90.75</td>\n",
       "      <td>0.00</td>\n",
       "      <td>-4.265</td>\n",
       "      <td>-0.4500</td>\n",
       "      <td>0.00</td>\n",
       "      <td>0.00</td>\n",
       "      <td>0.00</td>\n",
       "      <td>0.000000</td>\n",
       "      <td>21.730942</td>\n",
       "      <td>0.00</td>\n",
       "      <td>11.0</td>\n",
       "      <td>0.00</td>\n",
       "      <td>0.0</td>\n",
       "      <td>0.0</td>\n",
       "      <td>0.0</td>\n",
       "      <td>359.91</td>\n",
       "    </tr>\n",
       "    <tr>\n",
       "      <th>4</th>\n",
       "      <td>50.0</td>\n",
       "      <td>1.0</td>\n",
       "      <td>336.0</td>\n",
       "      <td>34.99</td>\n",
       "      <td>191.75</td>\n",
       "      <td>44.99</td>\n",
       "      <td>0.00</td>\n",
       "      <td>0.00</td>\n",
       "      <td>0.045</td>\n",
       "      <td>0.0000</td>\n",
       "      <td>44.57</td>\n",
       "      <td>7.67</td>\n",
       "      <td>6.67</td>\n",
       "      <td>1.608413</td>\n",
       "      <td>10.314695</td>\n",
       "      <td>15.00</td>\n",
       "      <td>12.0</td>\n",
       "      <td>0.00</td>\n",
       "      <td>0.0</td>\n",
       "      <td>0.0</td>\n",
       "      <td>0.0</td>\n",
       "      <td>314.93</td>\n",
       "    </tr>\n",
       "    <tr>\n",
       "      <th>5</th>\n",
       "      <td>28.0</td>\n",
       "      <td>2.0</td>\n",
       "      <td>552.0</td>\n",
       "      <td>40.00</td>\n",
       "      <td>307.00</td>\n",
       "      <td>44.75</td>\n",
       "      <td>12.50</td>\n",
       "      <td>0.00</td>\n",
       "      <td>1.900</td>\n",
       "      <td>0.3198</td>\n",
       "      <td>33.47</td>\n",
       "      <td>6.33</td>\n",
       "      <td>0.00</td>\n",
       "      <td>1.370745</td>\n",
       "      <td>2.907145</td>\n",
       "      <td>4.00</td>\n",
       "      <td>22.0</td>\n",
       "      <td>1.00</td>\n",
       "      <td>0.0</td>\n",
       "      <td>0.0</td>\n",
       "      <td>0.0</td>\n",
       "      <td>358.00</td>\n",
       "    </tr>\n",
       "    <tr>\n",
       "      <th>6</th>\n",
       "      <td>28.0</td>\n",
       "      <td>1.0</td>\n",
       "      <td>226.0</td>\n",
       "      <td>53.62</td>\n",
       "      <td>418.50</td>\n",
       "      <td>44.99</td>\n",
       "      <td>31.25</td>\n",
       "      <td>0.00</td>\n",
       "      <td>0.070</td>\n",
       "      <td>-0.0660</td>\n",
       "      <td>89.49</td>\n",
       "      <td>18.67</td>\n",
       "      <td>0.00</td>\n",
       "      <td>1.022877</td>\n",
       "      <td>-14.257591</td>\n",
       "      <td>14.67</td>\n",
       "      <td>8.0</td>\n",
       "      <td>0.33</td>\n",
       "      <td>0.0</td>\n",
       "      <td>0.0</td>\n",
       "      <td>0.0</td>\n",
       "      <td>89.98</td>\n",
       "    </tr>\n",
       "    <tr>\n",
       "      <th>7</th>\n",
       "      <td>52.0</td>\n",
       "      <td>1.0</td>\n",
       "      <td>813.0</td>\n",
       "      <td>33.23</td>\n",
       "      <td>42.50</td>\n",
       "      <td>29.99</td>\n",
       "      <td>0.00</td>\n",
       "      <td>0.00</td>\n",
       "      <td>-0.150</td>\n",
       "      <td>-0.0050</td>\n",
       "      <td>0.68</td>\n",
       "      <td>2.00</td>\n",
       "      <td>0.33</td>\n",
       "      <td>1.278333</td>\n",
       "      <td>-7.835117</td>\n",
       "      <td>0.33</td>\n",
       "      <td>27.0</td>\n",
       "      <td>0.00</td>\n",
       "      <td>0.0</td>\n",
       "      <td>0.0</td>\n",
       "      <td>0.0</td>\n",
       "      <td>179.94</td>\n",
       "    </tr>\n",
       "    <tr>\n",
       "      <th>8</th>\n",
       "      <td>34.0</td>\n",
       "      <td>1.0</td>\n",
       "      <td>770.0</td>\n",
       "      <td>39.54</td>\n",
       "      <td>1104.25</td>\n",
       "      <td>48.49</td>\n",
       "      <td>2.25</td>\n",
       "      <td>0.00</td>\n",
       "      <td>-8.845</td>\n",
       "      <td>-0.0910</td>\n",
       "      <td>214.10</td>\n",
       "      <td>57.67</td>\n",
       "      <td>37.33</td>\n",
       "      <td>0.549133</td>\n",
       "      <td>5.135227</td>\n",
       "      <td>5.67</td>\n",
       "      <td>25.0</td>\n",
       "      <td>15.33</td>\n",
       "      <td>0.0</td>\n",
       "      <td>0.0</td>\n",
       "      <td>0.0</td>\n",
       "      <td>0.00</td>\n",
       "    </tr>\n",
       "    <tr>\n",
       "      <th>9</th>\n",
       "      <td>44.0</td>\n",
       "      <td>1.0</td>\n",
       "      <td>731.0</td>\n",
       "      <td>30.94</td>\n",
       "      <td>110.25</td>\n",
       "      <td>29.99</td>\n",
       "      <td>0.00</td>\n",
       "      <td>0.00</td>\n",
       "      <td>-0.405</td>\n",
       "      <td>-0.0190</td>\n",
       "      <td>8.53</td>\n",
       "      <td>9.67</td>\n",
       "      <td>0.00</td>\n",
       "      <td>1.474326</td>\n",
       "      <td>-15.575779</td>\n",
       "      <td>1.67</td>\n",
       "      <td>25.0</td>\n",
       "      <td>0.00</td>\n",
       "      <td>0.0</td>\n",
       "      <td>0.0</td>\n",
       "      <td>0.0</td>\n",
       "      <td>179.94</td>\n",
       "    </tr>\n",
       "    <tr>\n",
       "      <th>10</th>\n",
       "      <td>52.0</td>\n",
       "      <td>1.0</td>\n",
       "      <td>210.0</td>\n",
       "      <td>76.54</td>\n",
       "      <td>1128.50</td>\n",
       "      <td>35.99</td>\n",
       "      <td>103.25</td>\n",
       "      <td>1.18</td>\n",
       "      <td>-0.190</td>\n",
       "      <td>-0.0282</td>\n",
       "      <td>86.24</td>\n",
       "      <td>21.67</td>\n",
       "      <td>0.00</td>\n",
       "      <td>1.306827</td>\n",
       "      <td>2.107352</td>\n",
       "      <td>6.67</td>\n",
       "      <td>7.0</td>\n",
       "      <td>12.33</td>\n",
       "      <td>0.0</td>\n",
       "      <td>0.0</td>\n",
       "      <td>0.0</td>\n",
       "      <td>107.97</td>\n",
       "    </tr>\n",
       "    <tr>\n",
       "      <th>11</th>\n",
       "      <td>52.0</td>\n",
       "      <td>2.0</td>\n",
       "      <td>68.0</td>\n",
       "      <td>51.64</td>\n",
       "      <td>1389.75</td>\n",
       "      <td>9.48</td>\n",
       "      <td>0.00</td>\n",
       "      <td>4.42</td>\n",
       "      <td>-1.495</td>\n",
       "      <td>-0.4872</td>\n",
       "      <td>561.72</td>\n",
       "      <td>132.00</td>\n",
       "      <td>48.33</td>\n",
       "      <td>1.150359</td>\n",
       "      <td>-9.570495</td>\n",
       "      <td>18.00</td>\n",
       "      <td>9.0</td>\n",
       "      <td>1.67</td>\n",
       "      <td>0.0</td>\n",
       "      <td>0.0</td>\n",
       "      <td>0.0</td>\n",
       "      <td>56.88</td>\n",
       "    </tr>\n",
       "    <tr>\n",
       "      <th>12</th>\n",
       "      <td>26.0</td>\n",
       "      <td>1.0</td>\n",
       "      <td>306.0</td>\n",
       "      <td>36.36</td>\n",
       "      <td>386.75</td>\n",
       "      <td>39.99</td>\n",
       "      <td>17.50</td>\n",
       "      <td>0.00</td>\n",
       "      <td>2.025</td>\n",
       "      <td>-0.1274</td>\n",
       "      <td>92.54</td>\n",
       "      <td>19.33</td>\n",
       "      <td>6.00</td>\n",
       "      <td>0.984924</td>\n",
       "      <td>-5.434810</td>\n",
       "      <td>3.67</td>\n",
       "      <td>11.0</td>\n",
       "      <td>0.00</td>\n",
       "      <td>0.0</td>\n",
       "      <td>0.0</td>\n",
       "      <td>0.0</td>\n",
       "      <td>239.94</td>\n",
       "    </tr>\n",
       "    <tr>\n",
       "      <th>13</th>\n",
       "      <td>34.0</td>\n",
       "      <td>2.0</td>\n",
       "      <td>98.0</td>\n",
       "      <td>134.66</td>\n",
       "      <td>1137.50</td>\n",
       "      <td>44.99</td>\n",
       "      <td>135.50</td>\n",
       "      <td>1.28</td>\n",
       "      <td>4.290</td>\n",
       "      <td>0.5238</td>\n",
       "      <td>169.67</td>\n",
       "      <td>98.67</td>\n",
       "      <td>3.67</td>\n",
       "      <td>1.178275</td>\n",
       "      <td>10.609530</td>\n",
       "      <td>16.67</td>\n",
       "      <td>11.0</td>\n",
       "      <td>1.33</td>\n",
       "      <td>0.0</td>\n",
       "      <td>0.0</td>\n",
       "      <td>1.0</td>\n",
       "      <td>0.00</td>\n",
       "    </tr>\n",
       "    <tr>\n",
       "      <th>14</th>\n",
       "      <td>36.0</td>\n",
       "      <td>2.0</td>\n",
       "      <td>391.0</td>\n",
       "      <td>57.74</td>\n",
       "      <td>891.50</td>\n",
       "      <td>52.78</td>\n",
       "      <td>19.00</td>\n",
       "      <td>10.97</td>\n",
       "      <td>-12.970</td>\n",
       "      <td>-2.0320</td>\n",
       "      <td>268.07</td>\n",
       "      <td>25.33</td>\n",
       "      <td>9.67</td>\n",
       "      <td>1.913678</td>\n",
       "      <td>2.550249</td>\n",
       "      <td>21.00</td>\n",
       "      <td>32.0</td>\n",
       "      <td>1.33</td>\n",
       "      <td>0.0</td>\n",
       "      <td>0.0</td>\n",
       "      <td>0.0</td>\n",
       "      <td>263.90</td>\n",
       "    </tr>\n",
       "    <tr>\n",
       "      <th>15</th>\n",
       "      <td>34.0</td>\n",
       "      <td>3.0</td>\n",
       "      <td>130.0</td>\n",
       "      <td>108.33</td>\n",
       "      <td>1156.50</td>\n",
       "      <td>59.99</td>\n",
       "      <td>71.25</td>\n",
       "      <td>18.24</td>\n",
       "      <td>7.530</td>\n",
       "      <td>1.5760</td>\n",
       "      <td>179.39</td>\n",
       "      <td>98.67</td>\n",
       "      <td>5.33</td>\n",
       "      <td>0.951787</td>\n",
       "      <td>-2.554959</td>\n",
       "      <td>10.00</td>\n",
       "      <td>18.0</td>\n",
       "      <td>2.33</td>\n",
       "      <td>0.0</td>\n",
       "      <td>0.0</td>\n",
       "      <td>0.0</td>\n",
       "      <td>0.00</td>\n",
       "    </tr>\n",
       "    <tr>\n",
       "      <th>16</th>\n",
       "      <td>32.0</td>\n",
       "      <td>2.0</td>\n",
       "      <td>312.0</td>\n",
       "      <td>98.99</td>\n",
       "      <td>362.75</td>\n",
       "      <td>35.15</td>\n",
       "      <td>181.25</td>\n",
       "      <td>0.00</td>\n",
       "      <td>4.545</td>\n",
       "      <td>1.8310</td>\n",
       "      <td>43.31</td>\n",
       "      <td>8.67</td>\n",
       "      <td>0.00</td>\n",
       "      <td>0.710328</td>\n",
       "      <td>6.909632</td>\n",
       "      <td>2.00</td>\n",
       "      <td>13.0</td>\n",
       "      <td>0.00</td>\n",
       "      <td>0.0</td>\n",
       "      <td>0.0</td>\n",
       "      <td>2.0</td>\n",
       "      <td>210.90</td>\n",
       "    </tr>\n",
       "    <tr>\n",
       "      <th>17</th>\n",
       "      <td>52.0</td>\n",
       "      <td>1.0</td>\n",
       "      <td>402.0</td>\n",
       "      <td>56.73</td>\n",
       "      <td>283.50</td>\n",
       "      <td>66.98</td>\n",
       "      <td>10.50</td>\n",
       "      <td>0.00</td>\n",
       "      <td>-1.330</td>\n",
       "      <td>0.0430</td>\n",
       "      <td>32.46</td>\n",
       "      <td>12.00</td>\n",
       "      <td>3.33</td>\n",
       "      <td>4.814522</td>\n",
       "      <td>-5.411734</td>\n",
       "      <td>6.33</td>\n",
       "      <td>14.0</td>\n",
       "      <td>0.00</td>\n",
       "      <td>0.0</td>\n",
       "      <td>0.0</td>\n",
       "      <td>0.0</td>\n",
       "      <td>401.88</td>\n",
       "    </tr>\n",
       "    <tr>\n",
       "      <th>18</th>\n",
       "      <td>40.0</td>\n",
       "      <td>3.0</td>\n",
       "      <td>251.0</td>\n",
       "      <td>45.41</td>\n",
       "      <td>27.25</td>\n",
       "      <td>45.00</td>\n",
       "      <td>0.00</td>\n",
       "      <td>0.00</td>\n",
       "      <td>-0.545</td>\n",
       "      <td>-0.0082</td>\n",
       "      <td>2.35</td>\n",
       "      <td>1.67</td>\n",
       "      <td>0.00</td>\n",
       "      <td>1.500000</td>\n",
       "      <td>8.463001</td>\n",
       "      <td>3.33</td>\n",
       "      <td>29.0</td>\n",
       "      <td>0.00</td>\n",
       "      <td>0.0</td>\n",
       "      <td>0.0</td>\n",
       "      <td>0.0</td>\n",
       "      <td>225.00</td>\n",
       "    </tr>\n",
       "    <tr>\n",
       "      <th>19</th>\n",
       "      <td>34.0</td>\n",
       "      <td>1.0</td>\n",
       "      <td>486.0</td>\n",
       "      <td>58.85</td>\n",
       "      <td>608.50</td>\n",
       "      <td>59.99</td>\n",
       "      <td>7.75</td>\n",
       "      <td>0.32</td>\n",
       "      <td>1.390</td>\n",
       "      <td>-0.0074</td>\n",
       "      <td>159.95</td>\n",
       "      <td>64.00</td>\n",
       "      <td>16.67</td>\n",
       "      <td>0.713312</td>\n",
       "      <td>6.042635</td>\n",
       "      <td>19.00</td>\n",
       "      <td>16.0</td>\n",
       "      <td>0.00</td>\n",
       "      <td>0.0</td>\n",
       "      <td>0.0</td>\n",
       "      <td>0.0</td>\n",
       "      <td>0.00</td>\n",
       "    </tr>\n",
       "    <tr>\n",
       "      <th>20</th>\n",
       "      <td>42.0</td>\n",
       "      <td>2.0</td>\n",
       "      <td>151.0</td>\n",
       "      <td>75.31</td>\n",
       "      <td>626.50</td>\n",
       "      <td>59.99</td>\n",
       "      <td>57.50</td>\n",
       "      <td>3.62</td>\n",
       "      <td>0.070</td>\n",
       "      <td>-0.1338</td>\n",
       "      <td>216.41</td>\n",
       "      <td>32.67</td>\n",
       "      <td>0.67</td>\n",
       "      <td>3.091750</td>\n",
       "      <td>-1.654797</td>\n",
       "      <td>4.33</td>\n",
       "      <td>15.0</td>\n",
       "      <td>1.00</td>\n",
       "      <td>0.0</td>\n",
       "      <td>0.0</td>\n",
       "      <td>0.0</td>\n",
       "      <td>359.94</td>\n",
       "    </tr>\n",
       "    <tr>\n",
       "      <th>21</th>\n",
       "      <td>34.0</td>\n",
       "      <td>2.0</td>\n",
       "      <td>396.0</td>\n",
       "      <td>49.09</td>\n",
       "      <td>1299.75</td>\n",
       "      <td>49.99</td>\n",
       "      <td>3.00</td>\n",
       "      <td>0.26</td>\n",
       "      <td>-2.935</td>\n",
       "      <td>0.0160</td>\n",
       "      <td>171.39</td>\n",
       "      <td>47.33</td>\n",
       "      <td>4.33</td>\n",
       "      <td>0.855769</td>\n",
       "      <td>13.977967</td>\n",
       "      <td>11.33</td>\n",
       "      <td>25.0</td>\n",
       "      <td>3.00</td>\n",
       "      <td>0.0</td>\n",
       "      <td>0.0</td>\n",
       "      <td>0.0</td>\n",
       "      <td>0.00</td>\n",
       "    </tr>\n",
       "    <tr>\n",
       "      <th>22</th>\n",
       "      <td>34.0</td>\n",
       "      <td>4.0</td>\n",
       "      <td>292.0</td>\n",
       "      <td>60.55</td>\n",
       "      <td>505.25</td>\n",
       "      <td>59.98</td>\n",
       "      <td>0.50</td>\n",
       "      <td>0.00</td>\n",
       "      <td>-1.925</td>\n",
       "      <td>-0.0084</td>\n",
       "      <td>200.58</td>\n",
       "      <td>19.67</td>\n",
       "      <td>40.00</td>\n",
       "      <td>1.712967</td>\n",
       "      <td>-4.217909</td>\n",
       "      <td>6.00</td>\n",
       "      <td>28.0</td>\n",
       "      <td>0.00</td>\n",
       "      <td>0.0</td>\n",
       "      <td>0.0</td>\n",
       "      <td>0.0</td>\n",
       "      <td>359.88</td>\n",
       "    </tr>\n",
       "    <tr>\n",
       "      <th>23</th>\n",
       "      <td>34.0</td>\n",
       "      <td>1.0</td>\n",
       "      <td>655.0</td>\n",
       "      <td>64.26</td>\n",
       "      <td>120.25</td>\n",
       "      <td>55.23</td>\n",
       "      <td>0.00</td>\n",
       "      <td>5.13</td>\n",
       "      <td>-1.825</td>\n",
       "      <td>-0.2308</td>\n",
       "      <td>23.30</td>\n",
       "      <td>5.67</td>\n",
       "      <td>0.00</td>\n",
       "      <td>1.431493</td>\n",
       "      <td>11.340476</td>\n",
       "      <td>8.67</td>\n",
       "      <td>22.0</td>\n",
       "      <td>0.67</td>\n",
       "      <td>0.0</td>\n",
       "      <td>0.0</td>\n",
       "      <td>0.0</td>\n",
       "      <td>0.00</td>\n",
       "    </tr>\n",
       "    <tr>\n",
       "      <th>24</th>\n",
       "      <td>40.0</td>\n",
       "      <td>2.0</td>\n",
       "      <td>126.0</td>\n",
       "      <td>53.99</td>\n",
       "      <td>707.50</td>\n",
       "      <td>69.99</td>\n",
       "      <td>0.00</td>\n",
       "      <td>0.00</td>\n",
       "      <td>1.310</td>\n",
       "      <td>0.0000</td>\n",
       "      <td>143.00</td>\n",
       "      <td>24.33</td>\n",
       "      <td>28.33</td>\n",
       "      <td>1.762606</td>\n",
       "      <td>8.647130</td>\n",
       "      <td>3.67</td>\n",
       "      <td>12.0</td>\n",
       "      <td>7.67</td>\n",
       "      <td>0.0</td>\n",
       "      <td>0.0</td>\n",
       "      <td>0.0</td>\n",
       "      <td>419.94</td>\n",
       "    </tr>\n",
       "    <tr>\n",
       "      <th>25</th>\n",
       "      <td>48.0</td>\n",
       "      <td>1.0</td>\n",
       "      <td>524.0</td>\n",
       "      <td>36.13</td>\n",
       "      <td>124.50</td>\n",
       "      <td>32.49</td>\n",
       "      <td>0.00</td>\n",
       "      <td>0.00</td>\n",
       "      <td>-0.030</td>\n",
       "      <td>-0.0078</td>\n",
       "      <td>17.04</td>\n",
       "      <td>6.33</td>\n",
       "      <td>2.67</td>\n",
       "      <td>0.765556</td>\n",
       "      <td>4.975443</td>\n",
       "      <td>9.33</td>\n",
       "      <td>17.0</td>\n",
       "      <td>0.67</td>\n",
       "      <td>0.0</td>\n",
       "      <td>0.0</td>\n",
       "      <td>0.0</td>\n",
       "      <td>97.47</td>\n",
       "    </tr>\n",
       "    <tr>\n",
       "      <th>26</th>\n",
       "      <td>50.0</td>\n",
       "      <td>1.0</td>\n",
       "      <td>588.0</td>\n",
       "      <td>12.33</td>\n",
       "      <td>234.25</td>\n",
       "      <td>10.00</td>\n",
       "      <td>0.00</td>\n",
       "      <td>0.10</td>\n",
       "      <td>-1.465</td>\n",
       "      <td>-0.0386</td>\n",
       "      <td>14.00</td>\n",
       "      <td>27.00</td>\n",
       "      <td>0.00</td>\n",
       "      <td>5.807275</td>\n",
       "      <td>28.245281</td>\n",
       "      <td>4.67</td>\n",
       "      <td>20.0</td>\n",
       "      <td>0.00</td>\n",
       "      <td>0.0</td>\n",
       "      <td>0.0</td>\n",
       "      <td>0.0</td>\n",
       "      <td>70.00</td>\n",
       "    </tr>\n",
       "    <tr>\n",
       "      <th>27</th>\n",
       "      <td>34.0</td>\n",
       "      <td>4.0</td>\n",
       "      <td>66.0</td>\n",
       "      <td>62.63</td>\n",
       "      <td>678.25</td>\n",
       "      <td>49.99</td>\n",
       "      <td>5.75</td>\n",
       "      <td>0.00</td>\n",
       "      <td>4.695</td>\n",
       "      <td>-0.0374</td>\n",
       "      <td>98.46</td>\n",
       "      <td>13.00</td>\n",
       "      <td>1.00</td>\n",
       "      <td>1.876813</td>\n",
       "      <td>-0.928734</td>\n",
       "      <td>9.67</td>\n",
       "      <td>18.0</td>\n",
       "      <td>0.00</td>\n",
       "      <td>0.0</td>\n",
       "      <td>0.0</td>\n",
       "      <td>0.0</td>\n",
       "      <td>0.00</td>\n",
       "    </tr>\n",
       "    <tr>\n",
       "      <th>28</th>\n",
       "      <td>34.0</td>\n",
       "      <td>1.0</td>\n",
       "      <td>557.0</td>\n",
       "      <td>24.94</td>\n",
       "      <td>355.50</td>\n",
       "      <td>10.00</td>\n",
       "      <td>59.75</td>\n",
       "      <td>0.00</td>\n",
       "      <td>-0.290</td>\n",
       "      <td>0.4912</td>\n",
       "      <td>45.73</td>\n",
       "      <td>35.00</td>\n",
       "      <td>9.00</td>\n",
       "      <td>1.668875</td>\n",
       "      <td>4.412098</td>\n",
       "      <td>14.33</td>\n",
       "      <td>18.0</td>\n",
       "      <td>0.00</td>\n",
       "      <td>0.0</td>\n",
       "      <td>0.0</td>\n",
       "      <td>0.0</td>\n",
       "      <td>0.00</td>\n",
       "    </tr>\n",
       "    <tr>\n",
       "      <th>29</th>\n",
       "      <td>52.0</td>\n",
       "      <td>2.0</td>\n",
       "      <td>245.0</td>\n",
       "      <td>33.20</td>\n",
       "      <td>79.50</td>\n",
       "      <td>39.99</td>\n",
       "      <td>0.00</td>\n",
       "      <td>2.96</td>\n",
       "      <td>1.030</td>\n",
       "      <td>-0.0642</td>\n",
       "      <td>16.40</td>\n",
       "      <td>1.00</td>\n",
       "      <td>0.00</td>\n",
       "      <td>1.226525</td>\n",
       "      <td>-20.244643</td>\n",
       "      <td>0.33</td>\n",
       "      <td>11.0</td>\n",
       "      <td>0.00</td>\n",
       "      <td>0.0</td>\n",
       "      <td>0.0</td>\n",
       "      <td>0.0</td>\n",
       "      <td>199.95</td>\n",
       "    </tr>\n",
       "    <tr>\n",
       "      <th>...</th>\n",
       "      <td>...</td>\n",
       "      <td>...</td>\n",
       "      <td>...</td>\n",
       "      <td>...</td>\n",
       "      <td>...</td>\n",
       "      <td>...</td>\n",
       "      <td>...</td>\n",
       "      <td>...</td>\n",
       "      <td>...</td>\n",
       "      <td>...</td>\n",
       "      <td>...</td>\n",
       "      <td>...</td>\n",
       "      <td>...</td>\n",
       "      <td>...</td>\n",
       "      <td>...</td>\n",
       "      <td>...</td>\n",
       "      <td>...</td>\n",
       "      <td>...</td>\n",
       "      <td>...</td>\n",
       "      <td>...</td>\n",
       "      <td>...</td>\n",
       "      <td>...</td>\n",
       "    </tr>\n",
       "    <tr>\n",
       "      <th>970</th>\n",
       "      <td>50.0</td>\n",
       "      <td>2.0</td>\n",
       "      <td>2.0</td>\n",
       "      <td>85.24</td>\n",
       "      <td>325.00</td>\n",
       "      <td>84.99</td>\n",
       "      <td>0.00</td>\n",
       "      <td>0.00</td>\n",
       "      <td>2.800</td>\n",
       "      <td>-0.0050</td>\n",
       "      <td>45.28</td>\n",
       "      <td>34.67</td>\n",
       "      <td>8.33</td>\n",
       "      <td>0.989692</td>\n",
       "      <td>4.427705</td>\n",
       "      <td>32.67</td>\n",
       "      <td>12.0</td>\n",
       "      <td>0.00</td>\n",
       "      <td>0.0</td>\n",
       "      <td>0.0</td>\n",
       "      <td>0.0</td>\n",
       "      <td>764.91</td>\n",
       "    </tr>\n",
       "    <tr>\n",
       "      <th>971</th>\n",
       "      <td>36.0</td>\n",
       "      <td>5.0</td>\n",
       "      <td>192.0</td>\n",
       "      <td>121.94</td>\n",
       "      <td>610.75</td>\n",
       "      <td>59.99</td>\n",
       "      <td>197.50</td>\n",
       "      <td>1.39</td>\n",
       "      <td>2.785</td>\n",
       "      <td>0.6720</td>\n",
       "      <td>122.37</td>\n",
       "      <td>2.67</td>\n",
       "      <td>4.00</td>\n",
       "      <td>19.373777</td>\n",
       "      <td>2.981875</td>\n",
       "      <td>18.33</td>\n",
       "      <td>25.0</td>\n",
       "      <td>0.00</td>\n",
       "      <td>1.0</td>\n",
       "      <td>1.0</td>\n",
       "      <td>0.0</td>\n",
       "      <td>539.91</td>\n",
       "    </tr>\n",
       "    <tr>\n",
       "      <th>972</th>\n",
       "      <td>34.0</td>\n",
       "      <td>1.0</td>\n",
       "      <td>323.0</td>\n",
       "      <td>17.73</td>\n",
       "      <td>133.50</td>\n",
       "      <td>10.86</td>\n",
       "      <td>19.00</td>\n",
       "      <td>0.00</td>\n",
       "      <td>-1.670</td>\n",
       "      <td>0.3150</td>\n",
       "      <td>39.18</td>\n",
       "      <td>11.67</td>\n",
       "      <td>3.33</td>\n",
       "      <td>2.245048</td>\n",
       "      <td>-10.613363</td>\n",
       "      <td>2.00</td>\n",
       "      <td>11.0</td>\n",
       "      <td>0.33</td>\n",
       "      <td>0.0</td>\n",
       "      <td>0.0</td>\n",
       "      <td>3.0</td>\n",
       "      <td>0.00</td>\n",
       "    </tr>\n",
       "    <tr>\n",
       "      <th>973</th>\n",
       "      <td>52.0</td>\n",
       "      <td>2.0</td>\n",
       "      <td>426.0</td>\n",
       "      <td>37.96</td>\n",
       "      <td>146.75</td>\n",
       "      <td>32.49</td>\n",
       "      <td>17.25</td>\n",
       "      <td>0.00</td>\n",
       "      <td>0.625</td>\n",
       "      <td>0.0468</td>\n",
       "      <td>4.99</td>\n",
       "      <td>15.33</td>\n",
       "      <td>2.00</td>\n",
       "      <td>1.813421</td>\n",
       "      <td>-4.273797</td>\n",
       "      <td>1.33</td>\n",
       "      <td>19.0</td>\n",
       "      <td>0.00</td>\n",
       "      <td>0.0</td>\n",
       "      <td>0.0</td>\n",
       "      <td>1.0</td>\n",
       "      <td>194.94</td>\n",
       "    </tr>\n",
       "    <tr>\n",
       "      <th>974</th>\n",
       "      <td>34.0</td>\n",
       "      <td>1.0</td>\n",
       "      <td>528.0</td>\n",
       "      <td>133.58</td>\n",
       "      <td>1480.75</td>\n",
       "      <td>64.71</td>\n",
       "      <td>78.50</td>\n",
       "      <td>0.00</td>\n",
       "      <td>2.085</td>\n",
       "      <td>-0.6566</td>\n",
       "      <td>340.46</td>\n",
       "      <td>56.33</td>\n",
       "      <td>7.67</td>\n",
       "      <td>1.434619</td>\n",
       "      <td>-11.254364</td>\n",
       "      <td>54.67</td>\n",
       "      <td>18.0</td>\n",
       "      <td>12.67</td>\n",
       "      <td>0.0</td>\n",
       "      <td>0.0</td>\n",
       "      <td>0.0</td>\n",
       "      <td>0.00</td>\n",
       "    </tr>\n",
       "    <tr>\n",
       "      <th>975</th>\n",
       "      <td>58.0</td>\n",
       "      <td>3.0</td>\n",
       "      <td>122.0</td>\n",
       "      <td>59.99</td>\n",
       "      <td>1595.25</td>\n",
       "      <td>59.99</td>\n",
       "      <td>13.50</td>\n",
       "      <td>0.00</td>\n",
       "      <td>-9.865</td>\n",
       "      <td>0.0000</td>\n",
       "      <td>392.93</td>\n",
       "      <td>152.67</td>\n",
       "      <td>55.67</td>\n",
       "      <td>0.477061</td>\n",
       "      <td>-8.537253</td>\n",
       "      <td>41.67</td>\n",
       "      <td>18.0</td>\n",
       "      <td>0.00</td>\n",
       "      <td>0.0</td>\n",
       "      <td>0.0</td>\n",
       "      <td>0.0</td>\n",
       "      <td>539.91</td>\n",
       "    </tr>\n",
       "    <tr>\n",
       "      <th>976</th>\n",
       "      <td>50.0</td>\n",
       "      <td>4.0</td>\n",
       "      <td>133.0</td>\n",
       "      <td>54.38</td>\n",
       "      <td>313.75</td>\n",
       "      <td>32.49</td>\n",
       "      <td>11.50</td>\n",
       "      <td>0.00</td>\n",
       "      <td>0.525</td>\n",
       "      <td>-0.3178</td>\n",
       "      <td>33.77</td>\n",
       "      <td>31.33</td>\n",
       "      <td>2.00</td>\n",
       "      <td>5.392694</td>\n",
       "      <td>-1.841724</td>\n",
       "      <td>8.67</td>\n",
       "      <td>33.0</td>\n",
       "      <td>1.67</td>\n",
       "      <td>0.0</td>\n",
       "      <td>0.0</td>\n",
       "      <td>0.0</td>\n",
       "      <td>292.41</td>\n",
       "    </tr>\n",
       "    <tr>\n",
       "      <th>977</th>\n",
       "      <td>22.0</td>\n",
       "      <td>1.0</td>\n",
       "      <td>663.0</td>\n",
       "      <td>72.75</td>\n",
       "      <td>147.75</td>\n",
       "      <td>15.00</td>\n",
       "      <td>71.50</td>\n",
       "      <td>0.00</td>\n",
       "      <td>-0.575</td>\n",
       "      <td>-0.2750</td>\n",
       "      <td>0.00</td>\n",
       "      <td>0.00</td>\n",
       "      <td>0.00</td>\n",
       "      <td>0.000000</td>\n",
       "      <td>8.805895</td>\n",
       "      <td>0.00</td>\n",
       "      <td>22.0</td>\n",
       "      <td>0.00</td>\n",
       "      <td>0.0</td>\n",
       "      <td>0.0</td>\n",
       "      <td>0.0</td>\n",
       "      <td>30.00</td>\n",
       "    </tr>\n",
       "    <tr>\n",
       "      <th>978</th>\n",
       "      <td>34.0</td>\n",
       "      <td>1.0</td>\n",
       "      <td>359.0</td>\n",
       "      <td>34.85</td>\n",
       "      <td>248.75</td>\n",
       "      <td>39.99</td>\n",
       "      <td>1.75</td>\n",
       "      <td>0.00</td>\n",
       "      <td>-0.375</td>\n",
       "      <td>-0.0172</td>\n",
       "      <td>48.41</td>\n",
       "      <td>12.33</td>\n",
       "      <td>0.00</td>\n",
       "      <td>1.290513</td>\n",
       "      <td>4.665610</td>\n",
       "      <td>1.33</td>\n",
       "      <td>12.0</td>\n",
       "      <td>19.67</td>\n",
       "      <td>0.0</td>\n",
       "      <td>0.0</td>\n",
       "      <td>3.0</td>\n",
       "      <td>239.94</td>\n",
       "    </tr>\n",
       "    <tr>\n",
       "      <th>979</th>\n",
       "      <td>46.0</td>\n",
       "      <td>4.0</td>\n",
       "      <td>507.0</td>\n",
       "      <td>189.94</td>\n",
       "      <td>1318.00</td>\n",
       "      <td>89.99</td>\n",
       "      <td>322.25</td>\n",
       "      <td>0.52</td>\n",
       "      <td>8.100</td>\n",
       "      <td>1.4414</td>\n",
       "      <td>312.35</td>\n",
       "      <td>66.67</td>\n",
       "      <td>10.00</td>\n",
       "      <td>1.512760</td>\n",
       "      <td>-6.930137</td>\n",
       "      <td>34.67</td>\n",
       "      <td>28.0</td>\n",
       "      <td>2.33</td>\n",
       "      <td>0.0</td>\n",
       "      <td>0.0</td>\n",
       "      <td>2.0</td>\n",
       "      <td>449.95</td>\n",
       "    </tr>\n",
       "    <tr>\n",
       "      <th>980</th>\n",
       "      <td>34.0</td>\n",
       "      <td>1.0</td>\n",
       "      <td>232.0</td>\n",
       "      <td>30.26</td>\n",
       "      <td>49.25</td>\n",
       "      <td>39.99</td>\n",
       "      <td>0.00</td>\n",
       "      <td>0.00</td>\n",
       "      <td>-0.105</td>\n",
       "      <td>-0.0054</td>\n",
       "      <td>0.00</td>\n",
       "      <td>0.00</td>\n",
       "      <td>0.00</td>\n",
       "      <td>0.000000</td>\n",
       "      <td>-17.069514</td>\n",
       "      <td>0.00</td>\n",
       "      <td>8.0</td>\n",
       "      <td>0.00</td>\n",
       "      <td>0.0</td>\n",
       "      <td>0.0</td>\n",
       "      <td>0.0</td>\n",
       "      <td>239.94</td>\n",
       "    </tr>\n",
       "    <tr>\n",
       "      <th>981</th>\n",
       "      <td>34.0</td>\n",
       "      <td>2.0</td>\n",
       "      <td>998.0</td>\n",
       "      <td>4.19</td>\n",
       "      <td>15.75</td>\n",
       "      <td>0.00</td>\n",
       "      <td>11.25</td>\n",
       "      <td>0.00</td>\n",
       "      <td>0.065</td>\n",
       "      <td>0.0072</td>\n",
       "      <td>4.65</td>\n",
       "      <td>0.33</td>\n",
       "      <td>0.67</td>\n",
       "      <td>0.582500</td>\n",
       "      <td>3.500026</td>\n",
       "      <td>1.33</td>\n",
       "      <td>53.0</td>\n",
       "      <td>0.00</td>\n",
       "      <td>0.0</td>\n",
       "      <td>0.0</td>\n",
       "      <td>3.0</td>\n",
       "      <td>0.00</td>\n",
       "    </tr>\n",
       "    <tr>\n",
       "      <th>982</th>\n",
       "      <td>32.0</td>\n",
       "      <td>2.0</td>\n",
       "      <td>532.0</td>\n",
       "      <td>47.77</td>\n",
       "      <td>405.50</td>\n",
       "      <td>44.99</td>\n",
       "      <td>36.50</td>\n",
       "      <td>0.00</td>\n",
       "      <td>0.690</td>\n",
       "      <td>-0.2136</td>\n",
       "      <td>45.02</td>\n",
       "      <td>19.00</td>\n",
       "      <td>1.33</td>\n",
       "      <td>2.756875</td>\n",
       "      <td>-1.594647</td>\n",
       "      <td>9.00</td>\n",
       "      <td>23.0</td>\n",
       "      <td>0.00</td>\n",
       "      <td>0.0</td>\n",
       "      <td>0.0</td>\n",
       "      <td>0.0</td>\n",
       "      <td>179.96</td>\n",
       "    </tr>\n",
       "    <tr>\n",
       "      <th>983</th>\n",
       "      <td>26.0</td>\n",
       "      <td>2.0</td>\n",
       "      <td>854.0</td>\n",
       "      <td>34.00</td>\n",
       "      <td>115.75</td>\n",
       "      <td>45.00</td>\n",
       "      <td>0.00</td>\n",
       "      <td>0.00</td>\n",
       "      <td>-2.315</td>\n",
       "      <td>-0.6800</td>\n",
       "      <td>0.00</td>\n",
       "      <td>0.33</td>\n",
       "      <td>0.00</td>\n",
       "      <td>0.000000</td>\n",
       "      <td>-2.977569</td>\n",
       "      <td>0.00</td>\n",
       "      <td>31.0</td>\n",
       "      <td>0.00</td>\n",
       "      <td>0.0</td>\n",
       "      <td>0.0</td>\n",
       "      <td>3.0</td>\n",
       "      <td>135.00</td>\n",
       "    </tr>\n",
       "    <tr>\n",
       "      <th>984</th>\n",
       "      <td>50.0</td>\n",
       "      <td>1.0</td>\n",
       "      <td>836.0</td>\n",
       "      <td>46.17</td>\n",
       "      <td>191.00</td>\n",
       "      <td>29.99</td>\n",
       "      <td>34.25</td>\n",
       "      <td>0.00</td>\n",
       "      <td>-1.640</td>\n",
       "      <td>-0.3236</td>\n",
       "      <td>32.16</td>\n",
       "      <td>9.00</td>\n",
       "      <td>3.33</td>\n",
       "      <td>30.630631</td>\n",
       "      <td>-2.055417</td>\n",
       "      <td>4.67</td>\n",
       "      <td>28.0</td>\n",
       "      <td>0.00</td>\n",
       "      <td>0.0</td>\n",
       "      <td>0.0</td>\n",
       "      <td>0.0</td>\n",
       "      <td>209.93</td>\n",
       "    </tr>\n",
       "    <tr>\n",
       "      <th>985</th>\n",
       "      <td>40.0</td>\n",
       "      <td>1.0</td>\n",
       "      <td>255.0</td>\n",
       "      <td>23.05</td>\n",
       "      <td>211.50</td>\n",
       "      <td>10.00</td>\n",
       "      <td>37.25</td>\n",
       "      <td>0.00</td>\n",
       "      <td>-1.770</td>\n",
       "      <td>-0.2610</td>\n",
       "      <td>34.32</td>\n",
       "      <td>16.00</td>\n",
       "      <td>2.67</td>\n",
       "      <td>1.676964</td>\n",
       "      <td>7.003698</td>\n",
       "      <td>2.67</td>\n",
       "      <td>9.0</td>\n",
       "      <td>0.00</td>\n",
       "      <td>0.0</td>\n",
       "      <td>0.0</td>\n",
       "      <td>0.0</td>\n",
       "      <td>50.00</td>\n",
       "    </tr>\n",
       "    <tr>\n",
       "      <th>986</th>\n",
       "      <td>38.0</td>\n",
       "      <td>3.0</td>\n",
       "      <td>106.0</td>\n",
       "      <td>87.61</td>\n",
       "      <td>1545.50</td>\n",
       "      <td>47.70</td>\n",
       "      <td>93.50</td>\n",
       "      <td>0.49</td>\n",
       "      <td>-3.850</td>\n",
       "      <td>-0.6334</td>\n",
       "      <td>679.73</td>\n",
       "      <td>53.33</td>\n",
       "      <td>4.00</td>\n",
       "      <td>0.895650</td>\n",
       "      <td>-20.885353</td>\n",
       "      <td>19.67</td>\n",
       "      <td>13.0</td>\n",
       "      <td>0.33</td>\n",
       "      <td>0.0</td>\n",
       "      <td>0.0</td>\n",
       "      <td>0.0</td>\n",
       "      <td>238.50</td>\n",
       "    </tr>\n",
       "    <tr>\n",
       "      <th>987</th>\n",
       "      <td>38.0</td>\n",
       "      <td>3.0</td>\n",
       "      <td>192.0</td>\n",
       "      <td>79.49</td>\n",
       "      <td>1025.75</td>\n",
       "      <td>84.99</td>\n",
       "      <td>0.00</td>\n",
       "      <td>0.00</td>\n",
       "      <td>0.805</td>\n",
       "      <td>0.0100</td>\n",
       "      <td>293.27</td>\n",
       "      <td>89.00</td>\n",
       "      <td>44.33</td>\n",
       "      <td>0.704848</td>\n",
       "      <td>-1.935466</td>\n",
       "      <td>14.33</td>\n",
       "      <td>20.0</td>\n",
       "      <td>1.67</td>\n",
       "      <td>0.0</td>\n",
       "      <td>0.0</td>\n",
       "      <td>0.0</td>\n",
       "      <td>169.98</td>\n",
       "    </tr>\n",
       "    <tr>\n",
       "      <th>988</th>\n",
       "      <td>60.0</td>\n",
       "      <td>3.0</td>\n",
       "      <td>169.0</td>\n",
       "      <td>10.00</td>\n",
       "      <td>397.25</td>\n",
       "      <td>10.00</td>\n",
       "      <td>0.00</td>\n",
       "      <td>0.00</td>\n",
       "      <td>-0.565</td>\n",
       "      <td>0.0000</td>\n",
       "      <td>83.23</td>\n",
       "      <td>38.67</td>\n",
       "      <td>25.00</td>\n",
       "      <td>3.399747</td>\n",
       "      <td>-16.371027</td>\n",
       "      <td>2.00</td>\n",
       "      <td>22.0</td>\n",
       "      <td>0.00</td>\n",
       "      <td>0.0</td>\n",
       "      <td>0.0</td>\n",
       "      <td>1.0</td>\n",
       "      <td>90.00</td>\n",
       "    </tr>\n",
       "    <tr>\n",
       "      <th>989</th>\n",
       "      <td>34.0</td>\n",
       "      <td>1.0</td>\n",
       "      <td>277.0</td>\n",
       "      <td>177.59</td>\n",
       "      <td>1817.25</td>\n",
       "      <td>134.99</td>\n",
       "      <td>112.00</td>\n",
       "      <td>0.52</td>\n",
       "      <td>-8.465</td>\n",
       "      <td>-0.9926</td>\n",
       "      <td>333.05</td>\n",
       "      <td>72.33</td>\n",
       "      <td>18.33</td>\n",
       "      <td>2.449029</td>\n",
       "      <td>-13.762290</td>\n",
       "      <td>30.00</td>\n",
       "      <td>9.0</td>\n",
       "      <td>2.67</td>\n",
       "      <td>0.0</td>\n",
       "      <td>0.0</td>\n",
       "      <td>0.0</td>\n",
       "      <td>0.00</td>\n",
       "    </tr>\n",
       "    <tr>\n",
       "      <th>990</th>\n",
       "      <td>34.0</td>\n",
       "      <td>1.0</td>\n",
       "      <td>782.0</td>\n",
       "      <td>17.44</td>\n",
       "      <td>29.25</td>\n",
       "      <td>15.00</td>\n",
       "      <td>7.25</td>\n",
       "      <td>0.20</td>\n",
       "      <td>-0.185</td>\n",
       "      <td>-0.0302</td>\n",
       "      <td>6.57</td>\n",
       "      <td>0.00</td>\n",
       "      <td>0.00</td>\n",
       "      <td>6.185629</td>\n",
       "      <td>20.348145</td>\n",
       "      <td>1.33</td>\n",
       "      <td>26.0</td>\n",
       "      <td>0.00</td>\n",
       "      <td>0.0</td>\n",
       "      <td>0.0</td>\n",
       "      <td>0.0</td>\n",
       "      <td>90.00</td>\n",
       "    </tr>\n",
       "    <tr>\n",
       "      <th>991</th>\n",
       "      <td>34.0</td>\n",
       "      <td>2.0</td>\n",
       "      <td>443.0</td>\n",
       "      <td>57.61</td>\n",
       "      <td>437.25</td>\n",
       "      <td>44.99</td>\n",
       "      <td>58.00</td>\n",
       "      <td>0.00</td>\n",
       "      <td>0.855</td>\n",
       "      <td>0.5772</td>\n",
       "      <td>51.11</td>\n",
       "      <td>7.67</td>\n",
       "      <td>2.00</td>\n",
       "      <td>0.333250</td>\n",
       "      <td>2.899351</td>\n",
       "      <td>2.67</td>\n",
       "      <td>20.0</td>\n",
       "      <td>0.33</td>\n",
       "      <td>0.0</td>\n",
       "      <td>0.0</td>\n",
       "      <td>0.0</td>\n",
       "      <td>0.00</td>\n",
       "    </tr>\n",
       "    <tr>\n",
       "      <th>992</th>\n",
       "      <td>38.0</td>\n",
       "      <td>1.0</td>\n",
       "      <td>402.0</td>\n",
       "      <td>45.25</td>\n",
       "      <td>303.25</td>\n",
       "      <td>44.99</td>\n",
       "      <td>0.00</td>\n",
       "      <td>4.79</td>\n",
       "      <td>0.015</td>\n",
       "      <td>-0.7974</td>\n",
       "      <td>0.00</td>\n",
       "      <td>0.00</td>\n",
       "      <td>0.00</td>\n",
       "      <td>0.000000</td>\n",
       "      <td>-19.468377</td>\n",
       "      <td>0.00</td>\n",
       "      <td>14.0</td>\n",
       "      <td>0.00</td>\n",
       "      <td>0.0</td>\n",
       "      <td>0.0</td>\n",
       "      <td>0.0</td>\n",
       "      <td>269.94</td>\n",
       "    </tr>\n",
       "    <tr>\n",
       "      <th>993</th>\n",
       "      <td>36.0</td>\n",
       "      <td>1.0</td>\n",
       "      <td>354.0</td>\n",
       "      <td>34.99</td>\n",
       "      <td>185.00</td>\n",
       "      <td>44.99</td>\n",
       "      <td>0.00</td>\n",
       "      <td>0.00</td>\n",
       "      <td>-0.060</td>\n",
       "      <td>0.0000</td>\n",
       "      <td>54.19</td>\n",
       "      <td>32.33</td>\n",
       "      <td>1.33</td>\n",
       "      <td>2.187102</td>\n",
       "      <td>9.237714</td>\n",
       "      <td>2.00</td>\n",
       "      <td>12.0</td>\n",
       "      <td>0.00</td>\n",
       "      <td>0.0</td>\n",
       "      <td>0.0</td>\n",
       "      <td>0.0</td>\n",
       "      <td>314.93</td>\n",
       "    </tr>\n",
       "    <tr>\n",
       "      <th>994</th>\n",
       "      <td>34.0</td>\n",
       "      <td>1.0</td>\n",
       "      <td>366.0</td>\n",
       "      <td>54.29</td>\n",
       "      <td>873.75</td>\n",
       "      <td>59.99</td>\n",
       "      <td>1.00</td>\n",
       "      <td>0.00</td>\n",
       "      <td>5.945</td>\n",
       "      <td>-0.0060</td>\n",
       "      <td>0.00</td>\n",
       "      <td>0.00</td>\n",
       "      <td>0.00</td>\n",
       "      <td>0.000000</td>\n",
       "      <td>11.051946</td>\n",
       "      <td>0.00</td>\n",
       "      <td>13.0</td>\n",
       "      <td>0.00</td>\n",
       "      <td>0.0</td>\n",
       "      <td>0.0</td>\n",
       "      <td>0.0</td>\n",
       "      <td>0.00</td>\n",
       "    </tr>\n",
       "    <tr>\n",
       "      <th>995</th>\n",
       "      <td>58.0</td>\n",
       "      <td>1.0</td>\n",
       "      <td>313.0</td>\n",
       "      <td>97.65</td>\n",
       "      <td>615.75</td>\n",
       "      <td>41.36</td>\n",
       "      <td>213.50</td>\n",
       "      <td>0.00</td>\n",
       "      <td>-9.295</td>\n",
       "      <td>-1.4602</td>\n",
       "      <td>264.74</td>\n",
       "      <td>11.00</td>\n",
       "      <td>1.67</td>\n",
       "      <td>1.134881</td>\n",
       "      <td>-11.408605</td>\n",
       "      <td>18.33</td>\n",
       "      <td>11.0</td>\n",
       "      <td>0.00</td>\n",
       "      <td>0.0</td>\n",
       "      <td>0.0</td>\n",
       "      <td>0.0</td>\n",
       "      <td>289.52</td>\n",
       "    </tr>\n",
       "    <tr>\n",
       "      <th>996</th>\n",
       "      <td>54.0</td>\n",
       "      <td>2.0</td>\n",
       "      <td>725.0</td>\n",
       "      <td>89.78</td>\n",
       "      <td>605.50</td>\n",
       "      <td>49.99</td>\n",
       "      <td>128.50</td>\n",
       "      <td>0.00</td>\n",
       "      <td>-4.330</td>\n",
       "      <td>-0.7760</td>\n",
       "      <td>185.74</td>\n",
       "      <td>39.00</td>\n",
       "      <td>21.67</td>\n",
       "      <td>4.160516</td>\n",
       "      <td>-3.779749</td>\n",
       "      <td>6.00</td>\n",
       "      <td>25.0</td>\n",
       "      <td>0.00</td>\n",
       "      <td>0.0</td>\n",
       "      <td>0.0</td>\n",
       "      <td>0.0</td>\n",
       "      <td>399.92</td>\n",
       "    </tr>\n",
       "    <tr>\n",
       "      <th>997</th>\n",
       "      <td>34.0</td>\n",
       "      <td>2.0</td>\n",
       "      <td>121.0</td>\n",
       "      <td>83.38</td>\n",
       "      <td>1133.50</td>\n",
       "      <td>50.00</td>\n",
       "      <td>131.25</td>\n",
       "      <td>0.00</td>\n",
       "      <td>6.030</td>\n",
       "      <td>1.5074</td>\n",
       "      <td>258.16</td>\n",
       "      <td>44.00</td>\n",
       "      <td>7.00</td>\n",
       "      <td>0.696471</td>\n",
       "      <td>-16.617508</td>\n",
       "      <td>63.00</td>\n",
       "      <td>13.0</td>\n",
       "      <td>15.00</td>\n",
       "      <td>0.0</td>\n",
       "      <td>0.0</td>\n",
       "      <td>0.0</td>\n",
       "      <td>0.00</td>\n",
       "    </tr>\n",
       "    <tr>\n",
       "      <th>998</th>\n",
       "      <td>34.0</td>\n",
       "      <td>4.0</td>\n",
       "      <td>143.0</td>\n",
       "      <td>50.49</td>\n",
       "      <td>1163.75</td>\n",
       "      <td>45.75</td>\n",
       "      <td>0.00</td>\n",
       "      <td>0.00</td>\n",
       "      <td>-7.215</td>\n",
       "      <td>-0.9900</td>\n",
       "      <td>385.43</td>\n",
       "      <td>154.67</td>\n",
       "      <td>52.67</td>\n",
       "      <td>1.755025</td>\n",
       "      <td>-6.607509</td>\n",
       "      <td>11.33</td>\n",
       "      <td>9.0</td>\n",
       "      <td>1.33</td>\n",
       "      <td>0.0</td>\n",
       "      <td>0.0</td>\n",
       "      <td>0.0</td>\n",
       "      <td>0.00</td>\n",
       "    </tr>\n",
       "    <tr>\n",
       "      <th>999</th>\n",
       "      <td>34.0</td>\n",
       "      <td>2.0</td>\n",
       "      <td>187.0</td>\n",
       "      <td>56.71</td>\n",
       "      <td>661.75</td>\n",
       "      <td>52.37</td>\n",
       "      <td>42.75</td>\n",
       "      <td>0.00</td>\n",
       "      <td>-4.375</td>\n",
       "      <td>-0.4344</td>\n",
       "      <td>107.07</td>\n",
       "      <td>32.67</td>\n",
       "      <td>2.33</td>\n",
       "      <td>0.669868</td>\n",
       "      <td>0.737549</td>\n",
       "      <td>10.33</td>\n",
       "      <td>17.0</td>\n",
       "      <td>0.00</td>\n",
       "      <td>0.0</td>\n",
       "      <td>0.0</td>\n",
       "      <td>0.0</td>\n",
       "      <td>261.85</td>\n",
       "    </tr>\n",
       "  </tbody>\n",
       "</table>\n",
       "<p>1000 rows × 22 columns</p>\n",
       "</div>"
      ],
      "text/plain": [
       "      age  numHandsets  handsetAge  avgBill  avgMins  avgrecurringCharge  avgOverBundleMins  avgRoamCalls  callMinutesChangePct  billAmountChangePct  avgReceivedMins  avgOutCalls  avgInCalls  peakOffPeakRatio  peakOffPeakRatioChangePct  avgDroppedCalls  lifeTime  lastMonthCustomerCareCalls  numRetentionCalls  numRetentionOffersAccepted  newFrequentNumbers  incRatio\n",
       "0    28.0          2.0       220.0    76.09  1290.75               59.99              54.50          2.60                 4.685              -0.4388           240.34        51.33       11.67          0.901895                  16.012870             5.00      10.0                       21.67                0.0                         0.0                 0.0    359.94\n",
       "1    52.0          1.0       730.0    35.59   208.25               30.25              11.25          0.00                 0.615               1.0352            91.06         3.33        9.33          1.529568                  20.921980             1.33      25.0                        0.00                0.0                         0.0                 0.0     30.25\n",
       "2    24.0          1.0       574.0    79.95   522.00               84.98               0.00          0.00                 5.340               0.1998           103.01        32.67       12.33          0.928293                 -11.860777             1.00      19.0                        1.67                0.0                         0.0                 0.0      0.00\n",
       "3    44.0          1.0       329.0    52.49   449.25               39.99              90.75          0.00                -4.265              -0.4500             0.00         0.00        0.00          0.000000                  21.730942             0.00      11.0                        0.00                0.0                         0.0                 0.0    359.91\n",
       "4    50.0          1.0       336.0    34.99   191.75               44.99               0.00          0.00                 0.045               0.0000            44.57         7.67        6.67          1.608413                  10.314695            15.00      12.0                        0.00                0.0                         0.0                 0.0    314.93\n",
       "5    28.0          2.0       552.0    40.00   307.00               44.75              12.50          0.00                 1.900               0.3198            33.47         6.33        0.00          1.370745                   2.907145             4.00      22.0                        1.00                0.0                         0.0                 0.0    358.00\n",
       "6    28.0          1.0       226.0    53.62   418.50               44.99              31.25          0.00                 0.070              -0.0660            89.49        18.67        0.00          1.022877                 -14.257591            14.67       8.0                        0.33                0.0                         0.0                 0.0     89.98\n",
       "7    52.0          1.0       813.0    33.23    42.50               29.99               0.00          0.00                -0.150              -0.0050             0.68         2.00        0.33          1.278333                  -7.835117             0.33      27.0                        0.00                0.0                         0.0                 0.0    179.94\n",
       "8    34.0          1.0       770.0    39.54  1104.25               48.49               2.25          0.00                -8.845              -0.0910           214.10        57.67       37.33          0.549133                   5.135227             5.67      25.0                       15.33                0.0                         0.0                 0.0      0.00\n",
       "9    44.0          1.0       731.0    30.94   110.25               29.99               0.00          0.00                -0.405              -0.0190             8.53         9.67        0.00          1.474326                 -15.575779             1.67      25.0                        0.00                0.0                         0.0                 0.0    179.94\n",
       "10   52.0          1.0       210.0    76.54  1128.50               35.99             103.25          1.18                -0.190              -0.0282            86.24        21.67        0.00          1.306827                   2.107352             6.67       7.0                       12.33                0.0                         0.0                 0.0    107.97\n",
       "11   52.0          2.0        68.0    51.64  1389.75                9.48               0.00          4.42                -1.495              -0.4872           561.72       132.00       48.33          1.150359                  -9.570495            18.00       9.0                        1.67                0.0                         0.0                 0.0     56.88\n",
       "12   26.0          1.0       306.0    36.36   386.75               39.99              17.50          0.00                 2.025              -0.1274            92.54        19.33        6.00          0.984924                  -5.434810             3.67      11.0                        0.00                0.0                         0.0                 0.0    239.94\n",
       "13   34.0          2.0        98.0   134.66  1137.50               44.99             135.50          1.28                 4.290               0.5238           169.67        98.67        3.67          1.178275                  10.609530            16.67      11.0                        1.33                0.0                         0.0                 1.0      0.00\n",
       "14   36.0          2.0       391.0    57.74   891.50               52.78              19.00         10.97               -12.970              -2.0320           268.07        25.33        9.67          1.913678                   2.550249            21.00      32.0                        1.33                0.0                         0.0                 0.0    263.90\n",
       "15   34.0          3.0       130.0   108.33  1156.50               59.99              71.25         18.24                 7.530               1.5760           179.39        98.67        5.33          0.951787                  -2.554959            10.00      18.0                        2.33                0.0                         0.0                 0.0      0.00\n",
       "16   32.0          2.0       312.0    98.99   362.75               35.15             181.25          0.00                 4.545               1.8310            43.31         8.67        0.00          0.710328                   6.909632             2.00      13.0                        0.00                0.0                         0.0                 2.0    210.90\n",
       "17   52.0          1.0       402.0    56.73   283.50               66.98              10.50          0.00                -1.330               0.0430            32.46        12.00        3.33          4.814522                  -5.411734             6.33      14.0                        0.00                0.0                         0.0                 0.0    401.88\n",
       "18   40.0          3.0       251.0    45.41    27.25               45.00               0.00          0.00                -0.545              -0.0082             2.35         1.67        0.00          1.500000                   8.463001             3.33      29.0                        0.00                0.0                         0.0                 0.0    225.00\n",
       "19   34.0          1.0       486.0    58.85   608.50               59.99               7.75          0.32                 1.390              -0.0074           159.95        64.00       16.67          0.713312                   6.042635            19.00      16.0                        0.00                0.0                         0.0                 0.0      0.00\n",
       "20   42.0          2.0       151.0    75.31   626.50               59.99              57.50          3.62                 0.070              -0.1338           216.41        32.67        0.67          3.091750                  -1.654797             4.33      15.0                        1.00                0.0                         0.0                 0.0    359.94\n",
       "21   34.0          2.0       396.0    49.09  1299.75               49.99               3.00          0.26                -2.935               0.0160           171.39        47.33        4.33          0.855769                  13.977967            11.33      25.0                        3.00                0.0                         0.0                 0.0      0.00\n",
       "22   34.0          4.0       292.0    60.55   505.25               59.98               0.50          0.00                -1.925              -0.0084           200.58        19.67       40.00          1.712967                  -4.217909             6.00      28.0                        0.00                0.0                         0.0                 0.0    359.88\n",
       "23   34.0          1.0       655.0    64.26   120.25               55.23               0.00          5.13                -1.825              -0.2308            23.30         5.67        0.00          1.431493                  11.340476             8.67      22.0                        0.67                0.0                         0.0                 0.0      0.00\n",
       "24   40.0          2.0       126.0    53.99   707.50               69.99               0.00          0.00                 1.310               0.0000           143.00        24.33       28.33          1.762606                   8.647130             3.67      12.0                        7.67                0.0                         0.0                 0.0    419.94\n",
       "25   48.0          1.0       524.0    36.13   124.50               32.49               0.00          0.00                -0.030              -0.0078            17.04         6.33        2.67          0.765556                   4.975443             9.33      17.0                        0.67                0.0                         0.0                 0.0     97.47\n",
       "26   50.0          1.0       588.0    12.33   234.25               10.00               0.00          0.10                -1.465              -0.0386            14.00        27.00        0.00          5.807275                  28.245281             4.67      20.0                        0.00                0.0                         0.0                 0.0     70.00\n",
       "27   34.0          4.0        66.0    62.63   678.25               49.99               5.75          0.00                 4.695              -0.0374            98.46        13.00        1.00          1.876813                  -0.928734             9.67      18.0                        0.00                0.0                         0.0                 0.0      0.00\n",
       "28   34.0          1.0       557.0    24.94   355.50               10.00              59.75          0.00                -0.290               0.4912            45.73        35.00        9.00          1.668875                   4.412098            14.33      18.0                        0.00                0.0                         0.0                 0.0      0.00\n",
       "29   52.0          2.0       245.0    33.20    79.50               39.99               0.00          2.96                 1.030              -0.0642            16.40         1.00        0.00          1.226525                 -20.244643             0.33      11.0                        0.00                0.0                         0.0                 0.0    199.95\n",
       "..    ...          ...         ...      ...      ...                 ...                ...           ...                   ...                  ...              ...          ...         ...               ...                        ...              ...       ...                         ...                ...                         ...                 ...       ...\n",
       "970  50.0          2.0         2.0    85.24   325.00               84.99               0.00          0.00                 2.800              -0.0050            45.28        34.67        8.33          0.989692                   4.427705            32.67      12.0                        0.00                0.0                         0.0                 0.0    764.91\n",
       "971  36.0          5.0       192.0   121.94   610.75               59.99             197.50          1.39                 2.785               0.6720           122.37         2.67        4.00         19.373777                   2.981875            18.33      25.0                        0.00                1.0                         1.0                 0.0    539.91\n",
       "972  34.0          1.0       323.0    17.73   133.50               10.86              19.00          0.00                -1.670               0.3150            39.18        11.67        3.33          2.245048                 -10.613363             2.00      11.0                        0.33                0.0                         0.0                 3.0      0.00\n",
       "973  52.0          2.0       426.0    37.96   146.75               32.49              17.25          0.00                 0.625               0.0468             4.99        15.33        2.00          1.813421                  -4.273797             1.33      19.0                        0.00                0.0                         0.0                 1.0    194.94\n",
       "974  34.0          1.0       528.0   133.58  1480.75               64.71              78.50          0.00                 2.085              -0.6566           340.46        56.33        7.67          1.434619                 -11.254364            54.67      18.0                       12.67                0.0                         0.0                 0.0      0.00\n",
       "975  58.0          3.0       122.0    59.99  1595.25               59.99              13.50          0.00                -9.865               0.0000           392.93       152.67       55.67          0.477061                  -8.537253            41.67      18.0                        0.00                0.0                         0.0                 0.0    539.91\n",
       "976  50.0          4.0       133.0    54.38   313.75               32.49              11.50          0.00                 0.525              -0.3178            33.77        31.33        2.00          5.392694                  -1.841724             8.67      33.0                        1.67                0.0                         0.0                 0.0    292.41\n",
       "977  22.0          1.0       663.0    72.75   147.75               15.00              71.50          0.00                -0.575              -0.2750             0.00         0.00        0.00          0.000000                   8.805895             0.00      22.0                        0.00                0.0                         0.0                 0.0     30.00\n",
       "978  34.0          1.0       359.0    34.85   248.75               39.99               1.75          0.00                -0.375              -0.0172            48.41        12.33        0.00          1.290513                   4.665610             1.33      12.0                       19.67                0.0                         0.0                 3.0    239.94\n",
       "979  46.0          4.0       507.0   189.94  1318.00               89.99             322.25          0.52                 8.100               1.4414           312.35        66.67       10.00          1.512760                  -6.930137            34.67      28.0                        2.33                0.0                         0.0                 2.0    449.95\n",
       "980  34.0          1.0       232.0    30.26    49.25               39.99               0.00          0.00                -0.105              -0.0054             0.00         0.00        0.00          0.000000                 -17.069514             0.00       8.0                        0.00                0.0                         0.0                 0.0    239.94\n",
       "981  34.0          2.0       998.0     4.19    15.75                0.00              11.25          0.00                 0.065               0.0072             4.65         0.33        0.67          0.582500                   3.500026             1.33      53.0                        0.00                0.0                         0.0                 3.0      0.00\n",
       "982  32.0          2.0       532.0    47.77   405.50               44.99              36.50          0.00                 0.690              -0.2136            45.02        19.00        1.33          2.756875                  -1.594647             9.00      23.0                        0.00                0.0                         0.0                 0.0    179.96\n",
       "983  26.0          2.0       854.0    34.00   115.75               45.00               0.00          0.00                -2.315              -0.6800             0.00         0.33        0.00          0.000000                  -2.977569             0.00      31.0                        0.00                0.0                         0.0                 3.0    135.00\n",
       "984  50.0          1.0       836.0    46.17   191.00               29.99              34.25          0.00                -1.640              -0.3236            32.16         9.00        3.33         30.630631                  -2.055417             4.67      28.0                        0.00                0.0                         0.0                 0.0    209.93\n",
       "985  40.0          1.0       255.0    23.05   211.50               10.00              37.25          0.00                -1.770              -0.2610            34.32        16.00        2.67          1.676964                   7.003698             2.67       9.0                        0.00                0.0                         0.0                 0.0     50.00\n",
       "986  38.0          3.0       106.0    87.61  1545.50               47.70              93.50          0.49                -3.850              -0.6334           679.73        53.33        4.00          0.895650                 -20.885353            19.67      13.0                        0.33                0.0                         0.0                 0.0    238.50\n",
       "987  38.0          3.0       192.0    79.49  1025.75               84.99               0.00          0.00                 0.805               0.0100           293.27        89.00       44.33          0.704848                  -1.935466            14.33      20.0                        1.67                0.0                         0.0                 0.0    169.98\n",
       "988  60.0          3.0       169.0    10.00   397.25               10.00               0.00          0.00                -0.565               0.0000            83.23        38.67       25.00          3.399747                 -16.371027             2.00      22.0                        0.00                0.0                         0.0                 1.0     90.00\n",
       "989  34.0          1.0       277.0   177.59  1817.25              134.99             112.00          0.52                -8.465              -0.9926           333.05        72.33       18.33          2.449029                 -13.762290            30.00       9.0                        2.67                0.0                         0.0                 0.0      0.00\n",
       "990  34.0          1.0       782.0    17.44    29.25               15.00               7.25          0.20                -0.185              -0.0302             6.57         0.00        0.00          6.185629                  20.348145             1.33      26.0                        0.00                0.0                         0.0                 0.0     90.00\n",
       "991  34.0          2.0       443.0    57.61   437.25               44.99              58.00          0.00                 0.855               0.5772            51.11         7.67        2.00          0.333250                   2.899351             2.67      20.0                        0.33                0.0                         0.0                 0.0      0.00\n",
       "992  38.0          1.0       402.0    45.25   303.25               44.99               0.00          4.79                 0.015              -0.7974             0.00         0.00        0.00          0.000000                 -19.468377             0.00      14.0                        0.00                0.0                         0.0                 0.0    269.94\n",
       "993  36.0          1.0       354.0    34.99   185.00               44.99               0.00          0.00                -0.060               0.0000            54.19        32.33        1.33          2.187102                   9.237714             2.00      12.0                        0.00                0.0                         0.0                 0.0    314.93\n",
       "994  34.0          1.0       366.0    54.29   873.75               59.99               1.00          0.00                 5.945              -0.0060             0.00         0.00        0.00          0.000000                  11.051946             0.00      13.0                        0.00                0.0                         0.0                 0.0      0.00\n",
       "995  58.0          1.0       313.0    97.65   615.75               41.36             213.50          0.00                -9.295              -1.4602           264.74        11.00        1.67          1.134881                 -11.408605            18.33      11.0                        0.00                0.0                         0.0                 0.0    289.52\n",
       "996  54.0          2.0       725.0    89.78   605.50               49.99             128.50          0.00                -4.330              -0.7760           185.74        39.00       21.67          4.160516                  -3.779749             6.00      25.0                        0.00                0.0                         0.0                 0.0    399.92\n",
       "997  34.0          2.0       121.0    83.38  1133.50               50.00             131.25          0.00                 6.030               1.5074           258.16        44.00        7.00          0.696471                 -16.617508            63.00      13.0                       15.00                0.0                         0.0                 0.0      0.00\n",
       "998  34.0          4.0       143.0    50.49  1163.75               45.75               0.00          0.00                -7.215              -0.9900           385.43       154.67       52.67          1.755025                  -6.607509            11.33       9.0                        1.33                0.0                         0.0                 0.0      0.00\n",
       "999  34.0          2.0       187.0    56.71   661.75               52.37              42.75          0.00                -4.375              -0.4344           107.07        32.67        2.33          0.669868                   0.737549            10.33      17.0                        0.00                0.0                         0.0                 0.0    261.85\n",
       "\n",
       "[1000 rows x 22 columns]"
      ]
     },
     "execution_count": 232,
     "metadata": {},
     "output_type": "execute_result"
    }
   ],
   "source": [
    "df_cont.drop('churn_float',1)"
   ]
  },
  {
   "cell_type": "code",
   "execution_count": 234,
   "metadata": {
    "collapsed": true
   },
   "outputs": [],
   "source": [
    "neigh = KNeighborsClassifier(n_neighbors=3)"
   ]
  },
  {
   "cell_type": "code",
   "execution_count": 235,
   "metadata": {},
   "outputs": [
    {
     "data": {
      "text/plain": [
       "KNeighborsClassifier(algorithm='auto', leaf_size=30, metric='minkowski',\n",
       "           metric_params=None, n_jobs=1, n_neighbors=3, p=2,\n",
       "           weights='uniform')"
      ]
     },
     "execution_count": 235,
     "metadata": {},
     "output_type": "execute_result"
    }
   ],
   "source": [
    "neigh.fit(df_cont, df['churn_float'])"
   ]
  },
  {
   "cell_type": "code",
   "execution_count": 236,
   "metadata": {},
   "outputs": [
    {
     "data": {
      "text/plain": [
       "0.759"
      ]
     },
     "execution_count": 236,
     "metadata": {},
     "output_type": "execute_result"
    }
   ],
   "source": [
    "neigh.score(df_cont, df['churn_float'])"
   ]
  },
  {
   "cell_type": "code",
   "execution_count": 270,
   "metadata": {
    "collapsed": true
   },
   "outputs": [],
   "source": [
    "X = df_cont.drop('churn_float',1)\n",
    "z = df['churn_float']"
   ]
  },
  {
   "cell_type": "code",
   "execution_count": 241,
   "metadata": {},
   "outputs": [
    {
     "data": {
      "text/plain": [
       "0    1.0\n",
       "1    1.0\n",
       "2    0.0\n",
       "3    1.0\n",
       "4    0.0\n",
       "Name: churn_float, dtype: float64"
      ]
     },
     "execution_count": 241,
     "metadata": {},
     "output_type": "execute_result"
    }
   ],
   "source": [
    "y.head()"
   ]
  },
  {
   "cell_type": "code",
   "execution_count": 242,
   "metadata": {
    "collapsed": true
   },
   "outputs": [],
   "source": [
    "neigh = KNeighborsClassifier(n_neighbors=3)"
   ]
  },
  {
   "cell_type": "code",
   "execution_count": 243,
   "metadata": {},
   "outputs": [
    {
     "data": {
      "text/plain": [
       "KNeighborsClassifier(algorithm='auto', leaf_size=30, metric='minkowski',\n",
       "           metric_params=None, n_jobs=1, n_neighbors=3, p=2,\n",
       "           weights='uniform')"
      ]
     },
     "execution_count": 243,
     "metadata": {},
     "output_type": "execute_result"
    }
   ],
   "source": [
    "neigh.fit(X, y)"
   ]
  },
  {
   "cell_type": "code",
   "execution_count": 244,
   "metadata": {
    "collapsed": true
   },
   "outputs": [],
   "source": [
    "predictions = neigh.predict(X)"
   ]
  },
  {
   "cell_type": "code",
   "execution_count": 264,
   "metadata": {},
   "outputs": [
    {
     "data": {
      "text/plain": [
       "0.759"
      ]
     },
     "execution_count": 264,
     "metadata": {},
     "output_type": "execute_result"
    }
   ],
   "source": [
    "neigh.score(X,y)"
   ]
  },
  {
   "cell_type": "code",
   "execution_count": 251,
   "metadata": {},
   "outputs": [
    {
     "name": "stderr",
     "output_type": "stream",
     "text": [
      "/home/robbie/anaconda3/lib/python3.6/site-packages/sklearn/cross_validation.py:41: DeprecationWarning: This module was deprecated in version 0.18 in favor of the model_selection module into which all the refactored classes and functions are moved. Also note that the interface of the new CV iterators are different from that of this module. This module will be removed in 0.20.\n",
      "  \"This module will be removed in 0.20.\", DeprecationWarning)\n"
     ]
    }
   ],
   "source": [
    "from sklearn.cross_validation import cross_val_score"
   ]
  },
  {
   "cell_type": "code",
   "execution_count": 268,
   "metadata": {
    "collapsed": true
   },
   "outputs": [],
   "source": [
    "from sklearn.linear_model import LogisticRegression"
   ]
  },
  {
   "cell_type": "code",
   "execution_count": 296,
   "metadata": {},
   "outputs": [
    {
     "name": "stdout",
     "output_type": "stream",
     "text": [
      "[0.62376238 0.53       0.5        0.45       0.58       0.53\n",
      " 0.62       0.56       0.57       0.57575758]\n",
      "0.55395199519952\n"
     ]
    }
   ],
   "source": [
    "scores = cross_val_score(LogisticRegression(),df[[\"homeOwner\",\"incRatio\",\"avgReceivedMins\",\"avgrecurringCharge\",\"numRetentionOffersAccepted\"]], z, scoring='accuracy', cv=10)\n",
    "print(scores)\n",
    "print(scores.mean())"
   ]
  },
  {
   "cell_type": "markdown",
   "metadata": {
    "collapsed": true
   },
   "source": [
    "# References"
   ]
  },
  {
   "cell_type": "markdown",
   "metadata": {},
   "source": [
    "[1] https://github.com/justmarkham/DAT4/blob/master/notebooks/08_linear_regression.ipynb 'Feature Selection'"
   ]
  }
 ],
 "metadata": {
  "kernelspec": {
   "display_name": "Python 3",
   "language": "python",
   "name": "python3"
  },
  "language_info": {
   "codemirror_mode": {
    "name": "ipython",
    "version": 3
   },
   "file_extension": ".py",
   "mimetype": "text/x-python",
   "name": "python",
   "nbconvert_exporter": "python",
   "pygments_lexer": "ipython3",
   "version": "3.6.3"
  }
 },
 "nbformat": 4,
 "nbformat_minor": 2
}
